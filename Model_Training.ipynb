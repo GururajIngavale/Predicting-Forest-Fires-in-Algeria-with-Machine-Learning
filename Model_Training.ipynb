{
 "cells": [
  {
   "cell_type": "code",
   "execution_count": 1,
   "id": "b58ac552",
   "metadata": {},
   "outputs": [],
   "source": [
    "import pandas as pd \n",
    "import numpy as np\n",
    "import matplotlib.pyplot as plt \n",
    "import seaborn as sns \n",
    "%matplotlib inline"
   ]
  },
  {
   "cell_type": "code",
   "execution_count": 2,
   "id": "a736a288",
   "metadata": {},
   "outputs": [],
   "source": [
    "df=pd.read_csv(\"Algerian_forest_fires_cleaned_dataset.csv\")"
   ]
  },
  {
   "cell_type": "code",
   "execution_count": 3,
   "id": "4f319fb8",
   "metadata": {},
   "outputs": [
    {
     "data": {
      "application/vnd.microsoft.datawrangler.viewer.v0+json": {
       "columns": [
        {
         "name": "index",
         "rawType": "int64",
         "type": "integer"
        },
        {
         "name": "day",
         "rawType": "int64",
         "type": "integer"
        },
        {
         "name": "month",
         "rawType": "int64",
         "type": "integer"
        },
        {
         "name": "year",
         "rawType": "int64",
         "type": "integer"
        },
        {
         "name": "Temperature",
         "rawType": "int64",
         "type": "integer"
        },
        {
         "name": "RH",
         "rawType": "int64",
         "type": "integer"
        },
        {
         "name": "Ws",
         "rawType": "int64",
         "type": "integer"
        },
        {
         "name": "Rain",
         "rawType": "float64",
         "type": "float"
        },
        {
         "name": "FFMC",
         "rawType": "float64",
         "type": "float"
        },
        {
         "name": "DMC",
         "rawType": "float64",
         "type": "float"
        },
        {
         "name": "DC",
         "rawType": "float64",
         "type": "float"
        },
        {
         "name": "ISI",
         "rawType": "float64",
         "type": "float"
        },
        {
         "name": "BUI",
         "rawType": "float64",
         "type": "float"
        },
        {
         "name": "FWI",
         "rawType": "float64",
         "type": "float"
        },
        {
         "name": "Classes",
         "rawType": "object",
         "type": "string"
        },
        {
         "name": "Region",
         "rawType": "int64",
         "type": "integer"
        }
       ],
       "ref": "62ef08ca-2cd8-4748-914c-477a54f0d46d",
       "rows": [
        [
         "0",
         "1",
         "6",
         "2012",
         "29",
         "57",
         "18",
         "0.0",
         "65.7",
         "3.4",
         "7.6",
         "1.3",
         "3.4",
         "0.5",
         "not fire   ",
         "0"
        ],
        [
         "1",
         "2",
         "6",
         "2012",
         "29",
         "61",
         "13",
         "1.3",
         "64.4",
         "4.1",
         "7.6",
         "1.0",
         "3.9",
         "0.4",
         "not fire   ",
         "0"
        ],
        [
         "2",
         "3",
         "6",
         "2012",
         "26",
         "82",
         "22",
         "13.1",
         "47.1",
         "2.5",
         "7.1",
         "0.3",
         "2.7",
         "0.1",
         "not fire   ",
         "0"
        ],
        [
         "3",
         "4",
         "6",
         "2012",
         "25",
         "89",
         "13",
         "2.5",
         "28.6",
         "1.3",
         "6.9",
         "0.0",
         "1.7",
         "0.0",
         "not fire   ",
         "0"
        ],
        [
         "4",
         "5",
         "6",
         "2012",
         "27",
         "77",
         "16",
         "0.0",
         "64.8",
         "3.0",
         "14.2",
         "1.2",
         "3.9",
         "0.5",
         "not fire   ",
         "0"
        ]
       ],
       "shape": {
        "columns": 15,
        "rows": 5
       }
      },
      "text/html": [
       "<div>\n",
       "<style scoped>\n",
       "    .dataframe tbody tr th:only-of-type {\n",
       "        vertical-align: middle;\n",
       "    }\n",
       "\n",
       "    .dataframe tbody tr th {\n",
       "        vertical-align: top;\n",
       "    }\n",
       "\n",
       "    .dataframe thead th {\n",
       "        text-align: right;\n",
       "    }\n",
       "</style>\n",
       "<table border=\"1\" class=\"dataframe\">\n",
       "  <thead>\n",
       "    <tr style=\"text-align: right;\">\n",
       "      <th></th>\n",
       "      <th>day</th>\n",
       "      <th>month</th>\n",
       "      <th>year</th>\n",
       "      <th>Temperature</th>\n",
       "      <th>RH</th>\n",
       "      <th>Ws</th>\n",
       "      <th>Rain</th>\n",
       "      <th>FFMC</th>\n",
       "      <th>DMC</th>\n",
       "      <th>DC</th>\n",
       "      <th>ISI</th>\n",
       "      <th>BUI</th>\n",
       "      <th>FWI</th>\n",
       "      <th>Classes</th>\n",
       "      <th>Region</th>\n",
       "    </tr>\n",
       "  </thead>\n",
       "  <tbody>\n",
       "    <tr>\n",
       "      <th>0</th>\n",
       "      <td>1</td>\n",
       "      <td>6</td>\n",
       "      <td>2012</td>\n",
       "      <td>29</td>\n",
       "      <td>57</td>\n",
       "      <td>18</td>\n",
       "      <td>0.0</td>\n",
       "      <td>65.7</td>\n",
       "      <td>3.4</td>\n",
       "      <td>7.6</td>\n",
       "      <td>1.3</td>\n",
       "      <td>3.4</td>\n",
       "      <td>0.5</td>\n",
       "      <td>not fire</td>\n",
       "      <td>0</td>\n",
       "    </tr>\n",
       "    <tr>\n",
       "      <th>1</th>\n",
       "      <td>2</td>\n",
       "      <td>6</td>\n",
       "      <td>2012</td>\n",
       "      <td>29</td>\n",
       "      <td>61</td>\n",
       "      <td>13</td>\n",
       "      <td>1.3</td>\n",
       "      <td>64.4</td>\n",
       "      <td>4.1</td>\n",
       "      <td>7.6</td>\n",
       "      <td>1.0</td>\n",
       "      <td>3.9</td>\n",
       "      <td>0.4</td>\n",
       "      <td>not fire</td>\n",
       "      <td>0</td>\n",
       "    </tr>\n",
       "    <tr>\n",
       "      <th>2</th>\n",
       "      <td>3</td>\n",
       "      <td>6</td>\n",
       "      <td>2012</td>\n",
       "      <td>26</td>\n",
       "      <td>82</td>\n",
       "      <td>22</td>\n",
       "      <td>13.1</td>\n",
       "      <td>47.1</td>\n",
       "      <td>2.5</td>\n",
       "      <td>7.1</td>\n",
       "      <td>0.3</td>\n",
       "      <td>2.7</td>\n",
       "      <td>0.1</td>\n",
       "      <td>not fire</td>\n",
       "      <td>0</td>\n",
       "    </tr>\n",
       "    <tr>\n",
       "      <th>3</th>\n",
       "      <td>4</td>\n",
       "      <td>6</td>\n",
       "      <td>2012</td>\n",
       "      <td>25</td>\n",
       "      <td>89</td>\n",
       "      <td>13</td>\n",
       "      <td>2.5</td>\n",
       "      <td>28.6</td>\n",
       "      <td>1.3</td>\n",
       "      <td>6.9</td>\n",
       "      <td>0.0</td>\n",
       "      <td>1.7</td>\n",
       "      <td>0.0</td>\n",
       "      <td>not fire</td>\n",
       "      <td>0</td>\n",
       "    </tr>\n",
       "    <tr>\n",
       "      <th>4</th>\n",
       "      <td>5</td>\n",
       "      <td>6</td>\n",
       "      <td>2012</td>\n",
       "      <td>27</td>\n",
       "      <td>77</td>\n",
       "      <td>16</td>\n",
       "      <td>0.0</td>\n",
       "      <td>64.8</td>\n",
       "      <td>3.0</td>\n",
       "      <td>14.2</td>\n",
       "      <td>1.2</td>\n",
       "      <td>3.9</td>\n",
       "      <td>0.5</td>\n",
       "      <td>not fire</td>\n",
       "      <td>0</td>\n",
       "    </tr>\n",
       "  </tbody>\n",
       "</table>\n",
       "</div>"
      ],
      "text/plain": [
       "   day  month  year  Temperature  RH  Ws  Rain  FFMC  DMC    DC  ISI  BUI  \\\n",
       "0    1      6  2012           29  57  18   0.0  65.7  3.4   7.6  1.3  3.4   \n",
       "1    2      6  2012           29  61  13   1.3  64.4  4.1   7.6  1.0  3.9   \n",
       "2    3      6  2012           26  82  22  13.1  47.1  2.5   7.1  0.3  2.7   \n",
       "3    4      6  2012           25  89  13   2.5  28.6  1.3   6.9  0.0  1.7   \n",
       "4    5      6  2012           27  77  16   0.0  64.8  3.0  14.2  1.2  3.9   \n",
       "\n",
       "   FWI      Classes  Region  \n",
       "0  0.5  not fire          0  \n",
       "1  0.4  not fire          0  \n",
       "2  0.1  not fire          0  \n",
       "3  0.0  not fire          0  \n",
       "4  0.5  not fire          0  "
      ]
     },
     "execution_count": 3,
     "metadata": {},
     "output_type": "execute_result"
    }
   ],
   "source": [
    "df.head()"
   ]
  },
  {
   "cell_type": "code",
   "execution_count": 4,
   "id": "d88af801",
   "metadata": {},
   "outputs": [
    {
     "data": {
      "text/plain": [
       "Index(['day', 'month', 'year', 'Temperature', 'RH', 'Ws', 'Rain', 'FFMC',\n",
       "       'DMC', 'DC', 'ISI', 'BUI', 'FWI', 'Classes', 'Region'],\n",
       "      dtype='object')"
      ]
     },
     "execution_count": 4,
     "metadata": {},
     "output_type": "execute_result"
    }
   ],
   "source": [
    "df.columns"
   ]
  },
  {
   "cell_type": "code",
   "execution_count": 5,
   "id": "71396437",
   "metadata": {},
   "outputs": [],
   "source": [
    "## drop month ,day and year\n",
    "df.drop(['month',\"day\",\"year\"],axis=1,inplace=True)"
   ]
  },
  {
   "cell_type": "code",
   "execution_count": 6,
   "id": "4c977fc2",
   "metadata": {},
   "outputs": [
    {
     "data": {
      "application/vnd.microsoft.datawrangler.viewer.v0+json": {
       "columns": [
        {
         "name": "index",
         "rawType": "int64",
         "type": "integer"
        },
        {
         "name": "Temperature",
         "rawType": "int64",
         "type": "integer"
        },
        {
         "name": "RH",
         "rawType": "int64",
         "type": "integer"
        },
        {
         "name": "Ws",
         "rawType": "int64",
         "type": "integer"
        },
        {
         "name": "Rain",
         "rawType": "float64",
         "type": "float"
        },
        {
         "name": "FFMC",
         "rawType": "float64",
         "type": "float"
        },
        {
         "name": "DMC",
         "rawType": "float64",
         "type": "float"
        },
        {
         "name": "DC",
         "rawType": "float64",
         "type": "float"
        },
        {
         "name": "ISI",
         "rawType": "float64",
         "type": "float"
        },
        {
         "name": "BUI",
         "rawType": "float64",
         "type": "float"
        },
        {
         "name": "FWI",
         "rawType": "float64",
         "type": "float"
        },
        {
         "name": "Classes",
         "rawType": "object",
         "type": "string"
        },
        {
         "name": "Region",
         "rawType": "int64",
         "type": "integer"
        }
       ],
       "ref": "57c40b3b-d6e8-46cc-937f-10ee0076fa66",
       "rows": [
        [
         "0",
         "29",
         "57",
         "18",
         "0.0",
         "65.7",
         "3.4",
         "7.6",
         "1.3",
         "3.4",
         "0.5",
         "not fire   ",
         "0"
        ],
        [
         "1",
         "29",
         "61",
         "13",
         "1.3",
         "64.4",
         "4.1",
         "7.6",
         "1.0",
         "3.9",
         "0.4",
         "not fire   ",
         "0"
        ],
        [
         "2",
         "26",
         "82",
         "22",
         "13.1",
         "47.1",
         "2.5",
         "7.1",
         "0.3",
         "2.7",
         "0.1",
         "not fire   ",
         "0"
        ],
        [
         "3",
         "25",
         "89",
         "13",
         "2.5",
         "28.6",
         "1.3",
         "6.9",
         "0.0",
         "1.7",
         "0.0",
         "not fire   ",
         "0"
        ],
        [
         "4",
         "27",
         "77",
         "16",
         "0.0",
         "64.8",
         "3.0",
         "14.2",
         "1.2",
         "3.9",
         "0.5",
         "not fire   ",
         "0"
        ],
        [
         "5",
         "31",
         "67",
         "14",
         "0.0",
         "82.6",
         "5.8",
         "22.2",
         "3.1",
         "7.0",
         "2.5",
         "fire   ",
         "0"
        ],
        [
         "6",
         "33",
         "54",
         "13",
         "0.0",
         "88.2",
         "9.9",
         "30.5",
         "6.4",
         "10.9",
         "7.2",
         "fire   ",
         "0"
        ],
        [
         "7",
         "30",
         "73",
         "15",
         "0.0",
         "86.6",
         "12.1",
         "38.3",
         "5.6",
         "13.5",
         "7.1",
         "fire   ",
         "0"
        ],
        [
         "8",
         "25",
         "88",
         "13",
         "0.2",
         "52.9",
         "7.9",
         "38.8",
         "0.4",
         "10.5",
         "0.3",
         "not fire   ",
         "0"
        ],
        [
         "9",
         "28",
         "79",
         "12",
         "0.0",
         "73.2",
         "9.5",
         "46.3",
         "1.3",
         "12.6",
         "0.9",
         "not fire   ",
         "0"
        ],
        [
         "10",
         "31",
         "65",
         "14",
         "0.0",
         "84.5",
         "12.5",
         "54.3",
         "4.0",
         "15.8",
         "5.6",
         "fire   ",
         "0"
        ],
        [
         "11",
         "26",
         "81",
         "19",
         "0.0",
         "84.0",
         "13.8",
         "61.4",
         "4.8",
         "17.7",
         "7.1",
         "fire   ",
         "0"
        ],
        [
         "12",
         "27",
         "84",
         "21",
         "1.2",
         "50.0",
         "6.7",
         "17.0",
         "0.5",
         "6.7",
         "0.2",
         "not fire   ",
         "0"
        ],
        [
         "13",
         "30",
         "78",
         "20",
         "0.5",
         "59.0",
         "4.6",
         "7.8",
         "1.0",
         "4.4",
         "0.4",
         "not fire   ",
         "0"
        ],
        [
         "14",
         "28",
         "80",
         "17",
         "3.1",
         "49.4",
         "3.0",
         "7.4",
         "0.4",
         "3.0",
         "0.1",
         "not fire   ",
         "0"
        ],
        [
         "15",
         "29",
         "89",
         "13",
         "0.7",
         "36.1",
         "1.7",
         "7.6",
         "0.0",
         "2.2",
         "0.0",
         "not fire   ",
         "0"
        ],
        [
         "16",
         "30",
         "89",
         "16",
         "0.6",
         "37.3",
         "1.1",
         "7.8",
         "0.0",
         "1.6",
         "0.0",
         "not fire   ",
         "0"
        ],
        [
         "17",
         "31",
         "78",
         "14",
         "0.3",
         "56.9",
         "1.9",
         "8.0",
         "0.7",
         "2.4",
         "0.2",
         "not fire   ",
         "0"
        ],
        [
         "18",
         "31",
         "55",
         "16",
         "0.1",
         "79.9",
         "4.5",
         "16.0",
         "2.5",
         "5.3",
         "1.4",
         "not fire   ",
         "0"
        ],
        [
         "19",
         "30",
         "80",
         "16",
         "0.4",
         "59.8",
         "3.4",
         "27.1",
         "0.9",
         "5.1",
         "0.4",
         "not fire   ",
         "0"
        ],
        [
         "20",
         "30",
         "78",
         "14",
         "0.0",
         "81.0",
         "6.3",
         "31.6",
         "2.6",
         "8.4",
         "2.2",
         "fire   ",
         "0"
        ],
        [
         "21",
         "31",
         "67",
         "17",
         "0.1",
         "79.1",
         "7.0",
         "39.5",
         "2.4",
         "9.7",
         "2.3",
         "not fire   ",
         "0"
        ],
        [
         "22",
         "32",
         "62",
         "18",
         "0.1",
         "81.4",
         "8.2",
         "47.7",
         "3.3",
         "11.5",
         "3.8",
         "fire   ",
         "0"
        ],
        [
         "23",
         "32",
         "66",
         "17",
         "0.0",
         "85.9",
         "11.2",
         "55.8",
         "5.6",
         "14.9",
         "7.5",
         "fire   ",
         "0"
        ],
        [
         "24",
         "31",
         "64",
         "15",
         "0.0",
         "86.7",
         "14.2",
         "63.8",
         "5.7",
         "18.3",
         "8.4",
         "fire   ",
         "0"
        ],
        [
         "25",
         "31",
         "64",
         "18",
         "0.0",
         "86.8",
         "17.8",
         "71.8",
         "6.7",
         "21.6",
         "10.6",
         "fire   ",
         "0"
        ],
        [
         "26",
         "34",
         "53",
         "18",
         "0.0",
         "89.0",
         "21.6",
         "80.3",
         "9.2",
         "25.8",
         "15.0",
         "fire   ",
         "0"
        ],
        [
         "27",
         "32",
         "55",
         "14",
         "0.0",
         "89.1",
         "25.5",
         "88.5",
         "7.6",
         "29.7",
         "13.9",
         "fire   ",
         "0"
        ],
        [
         "28",
         "32",
         "47",
         "13",
         "0.3",
         "79.9",
         "18.4",
         "84.4",
         "2.2",
         "23.8",
         "3.9",
         "not fire   ",
         "0"
        ],
        [
         "29",
         "33",
         "50",
         "14",
         "0.0",
         "88.7",
         "22.9",
         "92.8",
         "7.2",
         "28.3",
         "12.9",
         "fire   ",
         "0"
        ],
        [
         "30",
         "29",
         "68",
         "19",
         "1.0",
         "59.9",
         "2.5",
         "8.6",
         "1.1",
         "2.9",
         "0.4",
         "not fire   ",
         "0"
        ],
        [
         "31",
         "27",
         "75",
         "19",
         "1.2",
         "55.7",
         "2.4",
         "8.3",
         "0.8",
         "2.8",
         "0.3",
         "not fire   ",
         "0"
        ],
        [
         "32",
         "32",
         "76",
         "20",
         "0.7",
         "63.1",
         "2.6",
         "9.2",
         "1.3",
         "3.0",
         "0.5",
         "not fire   ",
         "0"
        ],
        [
         "33",
         "33",
         "78",
         "17",
         "0.0",
         "80.1",
         "4.6",
         "18.5",
         "2.7",
         "5.7",
         "1.7",
         "not fire   ",
         "0"
        ],
        [
         "34",
         "33",
         "66",
         "14",
         "0.0",
         "85.9",
         "7.6",
         "27.9",
         "4.8",
         "9.1",
         "4.9",
         "fire   ",
         "0"
        ],
        [
         "35",
         "32",
         "63",
         "14",
         "0.0",
         "87.0",
         "10.9",
         "37.0",
         "5.6",
         "12.5",
         "6.8",
         "fire   ",
         "0"
        ],
        [
         "36",
         "35",
         "64",
         "18",
         "0.2",
         "80.0",
         "9.7",
         "40.4",
         "2.8",
         "12.1",
         "3.2",
         "not fire   ",
         "0"
        ],
        [
         "37",
         "33",
         "68",
         "19",
         "0.0",
         "85.6",
         "12.5",
         "49.8",
         "6.0",
         "15.4",
         "8.0",
         "fire   ",
         "0"
        ],
        [
         "38",
         "32",
         "68",
         "14",
         "1.4",
         "66.6",
         "7.7",
         "9.2",
         "1.1",
         "7.4",
         "0.6",
         "not fire   ",
         "0"
        ],
        [
         "39",
         "33",
         "69",
         "13",
         "0.7",
         "66.6",
         "6.0",
         "9.3",
         "1.1",
         "5.8",
         "0.5",
         "not fire   ",
         "0"
        ],
        [
         "40",
         "33",
         "76",
         "14",
         "0.0",
         "81.1",
         "8.1",
         "18.7",
         "2.6",
         "8.1",
         "2.2",
         "not fire   ",
         "0"
        ],
        [
         "41",
         "31",
         "75",
         "13",
         "0.1",
         "75.1",
         "7.9",
         "27.7",
         "1.5",
         "9.2",
         "0.9",
         "not fire   ",
         "0"
        ],
        [
         "42",
         "34",
         "81",
         "15",
         "0.0",
         "81.8",
         "9.7",
         "37.2",
         "3.0",
         "11.7",
         "3.4",
         "not fire   ",
         "0"
        ],
        [
         "43",
         "34",
         "61",
         "13",
         "0.6",
         "73.9",
         "7.8",
         "22.9",
         "1.4",
         "8.4",
         "0.8",
         "not fire   ",
         "0"
        ],
        [
         "44",
         "30",
         "80",
         "19",
         "0.4",
         "60.7",
         "5.2",
         "17.0",
         "1.1",
         "5.9",
         "0.5",
         "not fire   ",
         "0"
        ],
        [
         "45",
         "28",
         "76",
         "21",
         "0.0",
         "72.6",
         "7.0",
         "25.5",
         "0.7",
         "8.3",
         "0.4",
         "not fire   ",
         "0"
        ],
        [
         "46",
         "29",
         "70",
         "14",
         "0.0",
         "82.8",
         "9.4",
         "34.1",
         "3.2",
         "11.1",
         "3.6",
         "fire   ",
         "0"
        ],
        [
         "47",
         "31",
         "68",
         "14",
         "0.0",
         "85.4",
         "12.1",
         "43.1",
         "4.6",
         "14.2",
         "6.0",
         "fire   ",
         "0"
        ],
        [
         "48",
         "35",
         "59",
         "17",
         "0.0",
         "88.1",
         "12.0",
         "52.8",
         "7.7",
         "18.2",
         "10.9",
         "fire   ",
         "0"
        ],
        [
         "49",
         "33",
         "65",
         "15",
         "0.1",
         "81.4",
         "12.3",
         "62.1",
         "2.8",
         "16.5",
         "4.0",
         "fire   ",
         "0"
        ]
       ],
       "shape": {
        "columns": 12,
        "rows": 243
       }
      },
      "text/html": [
       "<div>\n",
       "<style scoped>\n",
       "    .dataframe tbody tr th:only-of-type {\n",
       "        vertical-align: middle;\n",
       "    }\n",
       "\n",
       "    .dataframe tbody tr th {\n",
       "        vertical-align: top;\n",
       "    }\n",
       "\n",
       "    .dataframe thead th {\n",
       "        text-align: right;\n",
       "    }\n",
       "</style>\n",
       "<table border=\"1\" class=\"dataframe\">\n",
       "  <thead>\n",
       "    <tr style=\"text-align: right;\">\n",
       "      <th></th>\n",
       "      <th>Temperature</th>\n",
       "      <th>RH</th>\n",
       "      <th>Ws</th>\n",
       "      <th>Rain</th>\n",
       "      <th>FFMC</th>\n",
       "      <th>DMC</th>\n",
       "      <th>DC</th>\n",
       "      <th>ISI</th>\n",
       "      <th>BUI</th>\n",
       "      <th>FWI</th>\n",
       "      <th>Classes</th>\n",
       "      <th>Region</th>\n",
       "    </tr>\n",
       "  </thead>\n",
       "  <tbody>\n",
       "    <tr>\n",
       "      <th>0</th>\n",
       "      <td>29</td>\n",
       "      <td>57</td>\n",
       "      <td>18</td>\n",
       "      <td>0.0</td>\n",
       "      <td>65.7</td>\n",
       "      <td>3.4</td>\n",
       "      <td>7.6</td>\n",
       "      <td>1.3</td>\n",
       "      <td>3.4</td>\n",
       "      <td>0.5</td>\n",
       "      <td>not fire</td>\n",
       "      <td>0</td>\n",
       "    </tr>\n",
       "    <tr>\n",
       "      <th>1</th>\n",
       "      <td>29</td>\n",
       "      <td>61</td>\n",
       "      <td>13</td>\n",
       "      <td>1.3</td>\n",
       "      <td>64.4</td>\n",
       "      <td>4.1</td>\n",
       "      <td>7.6</td>\n",
       "      <td>1.0</td>\n",
       "      <td>3.9</td>\n",
       "      <td>0.4</td>\n",
       "      <td>not fire</td>\n",
       "      <td>0</td>\n",
       "    </tr>\n",
       "    <tr>\n",
       "      <th>2</th>\n",
       "      <td>26</td>\n",
       "      <td>82</td>\n",
       "      <td>22</td>\n",
       "      <td>13.1</td>\n",
       "      <td>47.1</td>\n",
       "      <td>2.5</td>\n",
       "      <td>7.1</td>\n",
       "      <td>0.3</td>\n",
       "      <td>2.7</td>\n",
       "      <td>0.1</td>\n",
       "      <td>not fire</td>\n",
       "      <td>0</td>\n",
       "    </tr>\n",
       "    <tr>\n",
       "      <th>3</th>\n",
       "      <td>25</td>\n",
       "      <td>89</td>\n",
       "      <td>13</td>\n",
       "      <td>2.5</td>\n",
       "      <td>28.6</td>\n",
       "      <td>1.3</td>\n",
       "      <td>6.9</td>\n",
       "      <td>0.0</td>\n",
       "      <td>1.7</td>\n",
       "      <td>0.0</td>\n",
       "      <td>not fire</td>\n",
       "      <td>0</td>\n",
       "    </tr>\n",
       "    <tr>\n",
       "      <th>4</th>\n",
       "      <td>27</td>\n",
       "      <td>77</td>\n",
       "      <td>16</td>\n",
       "      <td>0.0</td>\n",
       "      <td>64.8</td>\n",
       "      <td>3.0</td>\n",
       "      <td>14.2</td>\n",
       "      <td>1.2</td>\n",
       "      <td>3.9</td>\n",
       "      <td>0.5</td>\n",
       "      <td>not fire</td>\n",
       "      <td>0</td>\n",
       "    </tr>\n",
       "    <tr>\n",
       "      <th>...</th>\n",
       "      <td>...</td>\n",
       "      <td>...</td>\n",
       "      <td>...</td>\n",
       "      <td>...</td>\n",
       "      <td>...</td>\n",
       "      <td>...</td>\n",
       "      <td>...</td>\n",
       "      <td>...</td>\n",
       "      <td>...</td>\n",
       "      <td>...</td>\n",
       "      <td>...</td>\n",
       "      <td>...</td>\n",
       "    </tr>\n",
       "    <tr>\n",
       "      <th>238</th>\n",
       "      <td>30</td>\n",
       "      <td>65</td>\n",
       "      <td>14</td>\n",
       "      <td>0.0</td>\n",
       "      <td>85.4</td>\n",
       "      <td>16.0</td>\n",
       "      <td>44.5</td>\n",
       "      <td>4.5</td>\n",
       "      <td>16.9</td>\n",
       "      <td>6.5</td>\n",
       "      <td>fire</td>\n",
       "      <td>1</td>\n",
       "    </tr>\n",
       "    <tr>\n",
       "      <th>239</th>\n",
       "      <td>28</td>\n",
       "      <td>87</td>\n",
       "      <td>15</td>\n",
       "      <td>4.4</td>\n",
       "      <td>41.1</td>\n",
       "      <td>6.5</td>\n",
       "      <td>8.0</td>\n",
       "      <td>0.1</td>\n",
       "      <td>6.2</td>\n",
       "      <td>0.0</td>\n",
       "      <td>not fire</td>\n",
       "      <td>1</td>\n",
       "    </tr>\n",
       "    <tr>\n",
       "      <th>240</th>\n",
       "      <td>27</td>\n",
       "      <td>87</td>\n",
       "      <td>29</td>\n",
       "      <td>0.5</td>\n",
       "      <td>45.9</td>\n",
       "      <td>3.5</td>\n",
       "      <td>7.9</td>\n",
       "      <td>0.4</td>\n",
       "      <td>3.4</td>\n",
       "      <td>0.2</td>\n",
       "      <td>not fire</td>\n",
       "      <td>1</td>\n",
       "    </tr>\n",
       "    <tr>\n",
       "      <th>241</th>\n",
       "      <td>24</td>\n",
       "      <td>54</td>\n",
       "      <td>18</td>\n",
       "      <td>0.1</td>\n",
       "      <td>79.7</td>\n",
       "      <td>4.3</td>\n",
       "      <td>15.2</td>\n",
       "      <td>1.7</td>\n",
       "      <td>5.1</td>\n",
       "      <td>0.7</td>\n",
       "      <td>not fire</td>\n",
       "      <td>1</td>\n",
       "    </tr>\n",
       "    <tr>\n",
       "      <th>242</th>\n",
       "      <td>24</td>\n",
       "      <td>64</td>\n",
       "      <td>15</td>\n",
       "      <td>0.2</td>\n",
       "      <td>67.3</td>\n",
       "      <td>3.8</td>\n",
       "      <td>16.5</td>\n",
       "      <td>1.2</td>\n",
       "      <td>4.8</td>\n",
       "      <td>0.5</td>\n",
       "      <td>not fire</td>\n",
       "      <td>1</td>\n",
       "    </tr>\n",
       "  </tbody>\n",
       "</table>\n",
       "<p>243 rows × 12 columns</p>\n",
       "</div>"
      ],
      "text/plain": [
       "     Temperature  RH  Ws  Rain  FFMC   DMC    DC  ISI   BUI  FWI  \\\n",
       "0             29  57  18   0.0  65.7   3.4   7.6  1.3   3.4  0.5   \n",
       "1             29  61  13   1.3  64.4   4.1   7.6  1.0   3.9  0.4   \n",
       "2             26  82  22  13.1  47.1   2.5   7.1  0.3   2.7  0.1   \n",
       "3             25  89  13   2.5  28.6   1.3   6.9  0.0   1.7  0.0   \n",
       "4             27  77  16   0.0  64.8   3.0  14.2  1.2   3.9  0.5   \n",
       "..           ...  ..  ..   ...   ...   ...   ...  ...   ...  ...   \n",
       "238           30  65  14   0.0  85.4  16.0  44.5  4.5  16.9  6.5   \n",
       "239           28  87  15   4.4  41.1   6.5   8.0  0.1   6.2  0.0   \n",
       "240           27  87  29   0.5  45.9   3.5   7.9  0.4   3.4  0.2   \n",
       "241           24  54  18   0.1  79.7   4.3  15.2  1.7   5.1  0.7   \n",
       "242           24  64  15   0.2  67.3   3.8  16.5  1.2   4.8  0.5   \n",
       "\n",
       "          Classes  Region  \n",
       "0     not fire          0  \n",
       "1     not fire          0  \n",
       "2     not fire          0  \n",
       "3     not fire          0  \n",
       "4     not fire          0  \n",
       "..            ...     ...  \n",
       "238       fire          1  \n",
       "239   not fire          1  \n",
       "240   not fire          1  \n",
       "241   not fire          1  \n",
       "242  not fire           1  \n",
       "\n",
       "[243 rows x 12 columns]"
      ]
     },
     "execution_count": 6,
     "metadata": {},
     "output_type": "execute_result"
    }
   ],
   "source": [
    "df"
   ]
  },
  {
   "cell_type": "code",
   "execution_count": 7,
   "id": "33aec6f0",
   "metadata": {},
   "outputs": [
    {
     "data": {
      "application/vnd.microsoft.datawrangler.viewer.v0+json": {
       "columns": [
        {
         "name": "Classes",
         "rawType": "object",
         "type": "string"
        },
        {
         "name": "count",
         "rawType": "int64",
         "type": "integer"
        }
       ],
       "ref": "a57aa6e4-c531-4d42-a532-a9fb273741ed",
       "rows": [
        [
         "fire   ",
         "131"
        ],
        [
         "not fire   ",
         "101"
        ],
        [
         "fire",
         "4"
        ],
        [
         "fire ",
         "2"
        ],
        [
         "not fire",
         "2"
        ],
        [
         "not fire ",
         "1"
        ],
        [
         "not fire     ",
         "1"
        ],
        [
         "not fire    ",
         "1"
        ]
       ],
       "shape": {
        "columns": 1,
        "rows": 8
       }
      },
      "text/plain": [
       "Classes\n",
       "fire             131\n",
       "not fire         101\n",
       "fire               4\n",
       "fire               2\n",
       "not fire           2\n",
       "not fire           1\n",
       "not fire           1\n",
       "not fire           1\n",
       "Name: count, dtype: int64"
      ]
     },
     "execution_count": 7,
     "metadata": {},
     "output_type": "execute_result"
    }
   ],
   "source": [
    "df[\"Classes\"].value_counts()"
   ]
  },
  {
   "cell_type": "code",
   "execution_count": 8,
   "id": "62711a27",
   "metadata": {},
   "outputs": [],
   "source": [
    "## Encoding \n",
    "df[\"Classes\"]=np.where(df[\"Classes\"].str.contains(\"not fire\"),0,1)"
   ]
  },
  {
   "cell_type": "code",
   "execution_count": 9,
   "id": "a415f1a4",
   "metadata": {},
   "outputs": [
    {
     "data": {
      "application/vnd.microsoft.datawrangler.viewer.v0+json": {
       "columns": [
        {
         "name": "index",
         "rawType": "int64",
         "type": "integer"
        },
        {
         "name": "Temperature",
         "rawType": "int64",
         "type": "integer"
        },
        {
         "name": "RH",
         "rawType": "int64",
         "type": "integer"
        },
        {
         "name": "Ws",
         "rawType": "int64",
         "type": "integer"
        },
        {
         "name": "Rain",
         "rawType": "float64",
         "type": "float"
        },
        {
         "name": "FFMC",
         "rawType": "float64",
         "type": "float"
        },
        {
         "name": "DMC",
         "rawType": "float64",
         "type": "float"
        },
        {
         "name": "DC",
         "rawType": "float64",
         "type": "float"
        },
        {
         "name": "ISI",
         "rawType": "float64",
         "type": "float"
        },
        {
         "name": "BUI",
         "rawType": "float64",
         "type": "float"
        },
        {
         "name": "FWI",
         "rawType": "float64",
         "type": "float"
        },
        {
         "name": "Classes",
         "rawType": "int64",
         "type": "integer"
        },
        {
         "name": "Region",
         "rawType": "int64",
         "type": "integer"
        }
       ],
       "ref": "e9f9f559-c791-4451-8ea3-f932901968f2",
       "rows": [
        [
         "0",
         "29",
         "57",
         "18",
         "0.0",
         "65.7",
         "3.4",
         "7.6",
         "1.3",
         "3.4",
         "0.5",
         "0",
         "0"
        ],
        [
         "1",
         "29",
         "61",
         "13",
         "1.3",
         "64.4",
         "4.1",
         "7.6",
         "1.0",
         "3.9",
         "0.4",
         "0",
         "0"
        ],
        [
         "2",
         "26",
         "82",
         "22",
         "13.1",
         "47.1",
         "2.5",
         "7.1",
         "0.3",
         "2.7",
         "0.1",
         "0",
         "0"
        ],
        [
         "3",
         "25",
         "89",
         "13",
         "2.5",
         "28.6",
         "1.3",
         "6.9",
         "0.0",
         "1.7",
         "0.0",
         "0",
         "0"
        ],
        [
         "4",
         "27",
         "77",
         "16",
         "0.0",
         "64.8",
         "3.0",
         "14.2",
         "1.2",
         "3.9",
         "0.5",
         "0",
         "0"
        ]
       ],
       "shape": {
        "columns": 12,
        "rows": 5
       }
      },
      "text/html": [
       "<div>\n",
       "<style scoped>\n",
       "    .dataframe tbody tr th:only-of-type {\n",
       "        vertical-align: middle;\n",
       "    }\n",
       "\n",
       "    .dataframe tbody tr th {\n",
       "        vertical-align: top;\n",
       "    }\n",
       "\n",
       "    .dataframe thead th {\n",
       "        text-align: right;\n",
       "    }\n",
       "</style>\n",
       "<table border=\"1\" class=\"dataframe\">\n",
       "  <thead>\n",
       "    <tr style=\"text-align: right;\">\n",
       "      <th></th>\n",
       "      <th>Temperature</th>\n",
       "      <th>RH</th>\n",
       "      <th>Ws</th>\n",
       "      <th>Rain</th>\n",
       "      <th>FFMC</th>\n",
       "      <th>DMC</th>\n",
       "      <th>DC</th>\n",
       "      <th>ISI</th>\n",
       "      <th>BUI</th>\n",
       "      <th>FWI</th>\n",
       "      <th>Classes</th>\n",
       "      <th>Region</th>\n",
       "    </tr>\n",
       "  </thead>\n",
       "  <tbody>\n",
       "    <tr>\n",
       "      <th>0</th>\n",
       "      <td>29</td>\n",
       "      <td>57</td>\n",
       "      <td>18</td>\n",
       "      <td>0.0</td>\n",
       "      <td>65.7</td>\n",
       "      <td>3.4</td>\n",
       "      <td>7.6</td>\n",
       "      <td>1.3</td>\n",
       "      <td>3.4</td>\n",
       "      <td>0.5</td>\n",
       "      <td>0</td>\n",
       "      <td>0</td>\n",
       "    </tr>\n",
       "    <tr>\n",
       "      <th>1</th>\n",
       "      <td>29</td>\n",
       "      <td>61</td>\n",
       "      <td>13</td>\n",
       "      <td>1.3</td>\n",
       "      <td>64.4</td>\n",
       "      <td>4.1</td>\n",
       "      <td>7.6</td>\n",
       "      <td>1.0</td>\n",
       "      <td>3.9</td>\n",
       "      <td>0.4</td>\n",
       "      <td>0</td>\n",
       "      <td>0</td>\n",
       "    </tr>\n",
       "    <tr>\n",
       "      <th>2</th>\n",
       "      <td>26</td>\n",
       "      <td>82</td>\n",
       "      <td>22</td>\n",
       "      <td>13.1</td>\n",
       "      <td>47.1</td>\n",
       "      <td>2.5</td>\n",
       "      <td>7.1</td>\n",
       "      <td>0.3</td>\n",
       "      <td>2.7</td>\n",
       "      <td>0.1</td>\n",
       "      <td>0</td>\n",
       "      <td>0</td>\n",
       "    </tr>\n",
       "    <tr>\n",
       "      <th>3</th>\n",
       "      <td>25</td>\n",
       "      <td>89</td>\n",
       "      <td>13</td>\n",
       "      <td>2.5</td>\n",
       "      <td>28.6</td>\n",
       "      <td>1.3</td>\n",
       "      <td>6.9</td>\n",
       "      <td>0.0</td>\n",
       "      <td>1.7</td>\n",
       "      <td>0.0</td>\n",
       "      <td>0</td>\n",
       "      <td>0</td>\n",
       "    </tr>\n",
       "    <tr>\n",
       "      <th>4</th>\n",
       "      <td>27</td>\n",
       "      <td>77</td>\n",
       "      <td>16</td>\n",
       "      <td>0.0</td>\n",
       "      <td>64.8</td>\n",
       "      <td>3.0</td>\n",
       "      <td>14.2</td>\n",
       "      <td>1.2</td>\n",
       "      <td>3.9</td>\n",
       "      <td>0.5</td>\n",
       "      <td>0</td>\n",
       "      <td>0</td>\n",
       "    </tr>\n",
       "  </tbody>\n",
       "</table>\n",
       "</div>"
      ],
      "text/plain": [
       "   Temperature  RH  Ws  Rain  FFMC  DMC    DC  ISI  BUI  FWI  Classes  Region\n",
       "0           29  57  18   0.0  65.7  3.4   7.6  1.3  3.4  0.5        0       0\n",
       "1           29  61  13   1.3  64.4  4.1   7.6  1.0  3.9  0.4        0       0\n",
       "2           26  82  22  13.1  47.1  2.5   7.1  0.3  2.7  0.1        0       0\n",
       "3           25  89  13   2.5  28.6  1.3   6.9  0.0  1.7  0.0        0       0\n",
       "4           27  77  16   0.0  64.8  3.0  14.2  1.2  3.9  0.5        0       0"
      ]
     },
     "execution_count": 9,
     "metadata": {},
     "output_type": "execute_result"
    }
   ],
   "source": [
    "df.head()"
   ]
  },
  {
   "cell_type": "code",
   "execution_count": 10,
   "id": "64a22026",
   "metadata": {},
   "outputs": [
    {
     "data": {
      "application/vnd.microsoft.datawrangler.viewer.v0+json": {
       "columns": [
        {
         "name": "Classes",
         "rawType": "int64",
         "type": "integer"
        },
        {
         "name": "count",
         "rawType": "int64",
         "type": "integer"
        }
       ],
       "ref": "48cd6738-1a35-45dd-8037-5950b567bf78",
       "rows": [
        [
         "1",
         "137"
        ],
        [
         "0",
         "106"
        ]
       ],
       "shape": {
        "columns": 1,
        "rows": 2
       }
      },
      "text/plain": [
       "Classes\n",
       "1    137\n",
       "0    106\n",
       "Name: count, dtype: int64"
      ]
     },
     "execution_count": 10,
     "metadata": {},
     "output_type": "execute_result"
    }
   ],
   "source": [
    "df[\"Classes\"].value_counts()"
   ]
  },
  {
   "cell_type": "code",
   "execution_count": 11,
   "id": "f71452b0",
   "metadata": {},
   "outputs": [
    {
     "data": {
      "application/vnd.microsoft.datawrangler.viewer.v0+json": {
       "columns": [
        {
         "name": "index",
         "rawType": "int64",
         "type": "integer"
        },
        {
         "name": "Temperature",
         "rawType": "int64",
         "type": "integer"
        },
        {
         "name": "RH",
         "rawType": "int64",
         "type": "integer"
        },
        {
         "name": "Ws",
         "rawType": "int64",
         "type": "integer"
        },
        {
         "name": "Rain",
         "rawType": "float64",
         "type": "float"
        },
        {
         "name": "FFMC",
         "rawType": "float64",
         "type": "float"
        },
        {
         "name": "DMC",
         "rawType": "float64",
         "type": "float"
        },
        {
         "name": "DC",
         "rawType": "float64",
         "type": "float"
        },
        {
         "name": "ISI",
         "rawType": "float64",
         "type": "float"
        },
        {
         "name": "BUI",
         "rawType": "float64",
         "type": "float"
        },
        {
         "name": "Classes",
         "rawType": "int64",
         "type": "integer"
        },
        {
         "name": "Region",
         "rawType": "int64",
         "type": "integer"
        }
       ],
       "ref": "514fbd73-4942-4451-90be-325b54ffd0cb",
       "rows": [
        [
         "0",
         "29",
         "57",
         "18",
         "0.0",
         "65.7",
         "3.4",
         "7.6",
         "1.3",
         "3.4",
         "0",
         "0"
        ],
        [
         "1",
         "29",
         "61",
         "13",
         "1.3",
         "64.4",
         "4.1",
         "7.6",
         "1.0",
         "3.9",
         "0",
         "0"
        ],
        [
         "2",
         "26",
         "82",
         "22",
         "13.1",
         "47.1",
         "2.5",
         "7.1",
         "0.3",
         "2.7",
         "0",
         "0"
        ],
        [
         "3",
         "25",
         "89",
         "13",
         "2.5",
         "28.6",
         "1.3",
         "6.9",
         "0.0",
         "1.7",
         "0",
         "0"
        ],
        [
         "4",
         "27",
         "77",
         "16",
         "0.0",
         "64.8",
         "3.0",
         "14.2",
         "1.2",
         "3.9",
         "0",
         "0"
        ]
       ],
       "shape": {
        "columns": 11,
        "rows": 5
       }
      },
      "text/html": [
       "<div>\n",
       "<style scoped>\n",
       "    .dataframe tbody tr th:only-of-type {\n",
       "        vertical-align: middle;\n",
       "    }\n",
       "\n",
       "    .dataframe tbody tr th {\n",
       "        vertical-align: top;\n",
       "    }\n",
       "\n",
       "    .dataframe thead th {\n",
       "        text-align: right;\n",
       "    }\n",
       "</style>\n",
       "<table border=\"1\" class=\"dataframe\">\n",
       "  <thead>\n",
       "    <tr style=\"text-align: right;\">\n",
       "      <th></th>\n",
       "      <th>Temperature</th>\n",
       "      <th>RH</th>\n",
       "      <th>Ws</th>\n",
       "      <th>Rain</th>\n",
       "      <th>FFMC</th>\n",
       "      <th>DMC</th>\n",
       "      <th>DC</th>\n",
       "      <th>ISI</th>\n",
       "      <th>BUI</th>\n",
       "      <th>Classes</th>\n",
       "      <th>Region</th>\n",
       "    </tr>\n",
       "  </thead>\n",
       "  <tbody>\n",
       "    <tr>\n",
       "      <th>0</th>\n",
       "      <td>29</td>\n",
       "      <td>57</td>\n",
       "      <td>18</td>\n",
       "      <td>0.0</td>\n",
       "      <td>65.7</td>\n",
       "      <td>3.4</td>\n",
       "      <td>7.6</td>\n",
       "      <td>1.3</td>\n",
       "      <td>3.4</td>\n",
       "      <td>0</td>\n",
       "      <td>0</td>\n",
       "    </tr>\n",
       "    <tr>\n",
       "      <th>1</th>\n",
       "      <td>29</td>\n",
       "      <td>61</td>\n",
       "      <td>13</td>\n",
       "      <td>1.3</td>\n",
       "      <td>64.4</td>\n",
       "      <td>4.1</td>\n",
       "      <td>7.6</td>\n",
       "      <td>1.0</td>\n",
       "      <td>3.9</td>\n",
       "      <td>0</td>\n",
       "      <td>0</td>\n",
       "    </tr>\n",
       "    <tr>\n",
       "      <th>2</th>\n",
       "      <td>26</td>\n",
       "      <td>82</td>\n",
       "      <td>22</td>\n",
       "      <td>13.1</td>\n",
       "      <td>47.1</td>\n",
       "      <td>2.5</td>\n",
       "      <td>7.1</td>\n",
       "      <td>0.3</td>\n",
       "      <td>2.7</td>\n",
       "      <td>0</td>\n",
       "      <td>0</td>\n",
       "    </tr>\n",
       "    <tr>\n",
       "      <th>3</th>\n",
       "      <td>25</td>\n",
       "      <td>89</td>\n",
       "      <td>13</td>\n",
       "      <td>2.5</td>\n",
       "      <td>28.6</td>\n",
       "      <td>1.3</td>\n",
       "      <td>6.9</td>\n",
       "      <td>0.0</td>\n",
       "      <td>1.7</td>\n",
       "      <td>0</td>\n",
       "      <td>0</td>\n",
       "    </tr>\n",
       "    <tr>\n",
       "      <th>4</th>\n",
       "      <td>27</td>\n",
       "      <td>77</td>\n",
       "      <td>16</td>\n",
       "      <td>0.0</td>\n",
       "      <td>64.8</td>\n",
       "      <td>3.0</td>\n",
       "      <td>14.2</td>\n",
       "      <td>1.2</td>\n",
       "      <td>3.9</td>\n",
       "      <td>0</td>\n",
       "      <td>0</td>\n",
       "    </tr>\n",
       "  </tbody>\n",
       "</table>\n",
       "</div>"
      ],
      "text/plain": [
       "   Temperature  RH  Ws  Rain  FFMC  DMC    DC  ISI  BUI  Classes  Region\n",
       "0           29  57  18   0.0  65.7  3.4   7.6  1.3  3.4        0       0\n",
       "1           29  61  13   1.3  64.4  4.1   7.6  1.0  3.9        0       0\n",
       "2           26  82  22  13.1  47.1  2.5   7.1  0.3  2.7        0       0\n",
       "3           25  89  13   2.5  28.6  1.3   6.9  0.0  1.7        0       0\n",
       "4           27  77  16   0.0  64.8  3.0  14.2  1.2  3.9        0       0"
      ]
     },
     "execution_count": 11,
     "metadata": {},
     "output_type": "execute_result"
    }
   ],
   "source": [
    "## idependent and dependent features \n",
    "x=df.drop(\"FWI\",axis=1)\n",
    "y=df[\"FWI\"]\n",
    "x.head()"
   ]
  },
  {
   "cell_type": "code",
   "execution_count": 12,
   "id": "479d338b",
   "metadata": {},
   "outputs": [
    {
     "data": {
      "application/vnd.microsoft.datawrangler.viewer.v0+json": {
       "columns": [
        {
         "name": "index",
         "rawType": "int64",
         "type": "integer"
        },
        {
         "name": "FWI",
         "rawType": "float64",
         "type": "float"
        }
       ],
       "ref": "f61dea29-2b2a-4d49-87d1-6000b77ce55f",
       "rows": [
        [
         "0",
         "0.5"
        ],
        [
         "1",
         "0.4"
        ],
        [
         "2",
         "0.1"
        ],
        [
         "3",
         "0.0"
        ],
        [
         "4",
         "0.5"
        ],
        [
         "5",
         "2.5"
        ],
        [
         "6",
         "7.2"
        ],
        [
         "7",
         "7.1"
        ],
        [
         "8",
         "0.3"
        ],
        [
         "9",
         "0.9"
        ],
        [
         "10",
         "5.6"
        ],
        [
         "11",
         "7.1"
        ],
        [
         "12",
         "0.2"
        ],
        [
         "13",
         "0.4"
        ],
        [
         "14",
         "0.1"
        ],
        [
         "15",
         "0.0"
        ],
        [
         "16",
         "0.0"
        ],
        [
         "17",
         "0.2"
        ],
        [
         "18",
         "1.4"
        ],
        [
         "19",
         "0.4"
        ],
        [
         "20",
         "2.2"
        ],
        [
         "21",
         "2.3"
        ],
        [
         "22",
         "3.8"
        ],
        [
         "23",
         "7.5"
        ],
        [
         "24",
         "8.4"
        ],
        [
         "25",
         "10.6"
        ],
        [
         "26",
         "15.0"
        ],
        [
         "27",
         "13.9"
        ],
        [
         "28",
         "3.9"
        ],
        [
         "29",
         "12.9"
        ],
        [
         "30",
         "0.4"
        ],
        [
         "31",
         "0.3"
        ],
        [
         "32",
         "0.5"
        ],
        [
         "33",
         "1.7"
        ],
        [
         "34",
         "4.9"
        ],
        [
         "35",
         "6.8"
        ],
        [
         "36",
         "3.2"
        ],
        [
         "37",
         "8.0"
        ],
        [
         "38",
         "0.6"
        ],
        [
         "39",
         "0.5"
        ],
        [
         "40",
         "2.2"
        ],
        [
         "41",
         "0.9"
        ],
        [
         "42",
         "3.4"
        ],
        [
         "43",
         "0.8"
        ],
        [
         "44",
         "0.5"
        ],
        [
         "45",
         "0.4"
        ],
        [
         "46",
         "3.6"
        ],
        [
         "47",
         "6.0"
        ],
        [
         "48",
         "10.9"
        ],
        [
         "49",
         "4.0"
        ]
       ],
       "shape": {
        "columns": 1,
        "rows": 243
       }
      },
      "text/plain": [
       "0      0.5\n",
       "1      0.4\n",
       "2      0.1\n",
       "3      0.0\n",
       "4      0.5\n",
       "      ... \n",
       "238    6.5\n",
       "239    0.0\n",
       "240    0.2\n",
       "241    0.7\n",
       "242    0.5\n",
       "Name: FWI, Length: 243, dtype: float64"
      ]
     },
     "execution_count": 12,
     "metadata": {},
     "output_type": "execute_result"
    }
   ],
   "source": [
    "y"
   ]
  },
  {
   "cell_type": "code",
   "execution_count": 13,
   "id": "09d078f2",
   "metadata": {},
   "outputs": [],
   "source": [
    "# train test split\n",
    "from sklearn.model_selection import train_test_split\n",
    "x_train,x_test,y_train,y_test = train_test_split(x,y,test_size=0.25,random_state=46)"
   ]
  },
  {
   "cell_type": "code",
   "execution_count": 14,
   "id": "7e04efbd",
   "metadata": {},
   "outputs": [
    {
     "data": {
      "text/plain": [
       "((182, 11), (61, 11))"
      ]
     },
     "execution_count": 14,
     "metadata": {},
     "output_type": "execute_result"
    }
   ],
   "source": [
    "x_train.shape,x_test.shape"
   ]
  },
  {
   "cell_type": "code",
   "execution_count": 15,
   "id": "a00e5134",
   "metadata": {},
   "outputs": [
    {
     "data": {
      "application/vnd.microsoft.datawrangler.viewer.v0+json": {
       "columns": [
        {
         "name": "index",
         "rawType": "object",
         "type": "string"
        },
        {
         "name": "Temperature",
         "rawType": "float64",
         "type": "float"
        },
        {
         "name": "RH",
         "rawType": "float64",
         "type": "float"
        },
        {
         "name": "Ws",
         "rawType": "float64",
         "type": "float"
        },
        {
         "name": "Rain",
         "rawType": "float64",
         "type": "float"
        },
        {
         "name": "FFMC",
         "rawType": "float64",
         "type": "float"
        },
        {
         "name": "DMC",
         "rawType": "float64",
         "type": "float"
        },
        {
         "name": "DC",
         "rawType": "float64",
         "type": "float"
        },
        {
         "name": "ISI",
         "rawType": "float64",
         "type": "float"
        },
        {
         "name": "BUI",
         "rawType": "float64",
         "type": "float"
        },
        {
         "name": "Classes",
         "rawType": "float64",
         "type": "float"
        },
        {
         "name": "Region",
         "rawType": "float64",
         "type": "float"
        }
       ],
       "ref": "512cac6d-7b93-44a4-8e08-2a4499cdcf47",
       "rows": [
        [
         "Temperature",
         "1.0",
         "-0.6642004713478621",
         "-0.22743240738213036",
         "-0.36554395072766394",
         "0.701897894209874",
         "0.5059299730439083",
         "0.3950956006964224",
         "0.6319149204981428",
         "0.4853226642382461",
         "0.5682524902389158",
         "0.29045432687152484"
        ],
        [
         "RH",
         "-0.6642004713478621",
         "1.0",
         "0.2513884635976393",
         "0.2247896353121649",
         "-0.6551900970703527",
         "-0.4200648460072712",
         "-0.21885904828703465",
         "-0.6812599052950064",
         "-0.36624522530701487",
         "-0.4559250844409202",
         "-0.4380793489144908"
        ],
        [
         "Ws",
         "-0.22743240738213036",
         "0.2513884635976393",
         "1.0",
         "0.06851890065581695",
         "-0.12766495253976992",
         "0.01362741392661585",
         "0.0919722717756375",
         "0.05246989949521149",
         "0.04656733102259791",
         "-0.03402135244652687",
         "-0.14136506171592814"
        ],
        [
         "Rain",
         "-0.36554395072766394",
         "0.2247896353121649",
         "0.06851890065581695",
         "1.0",
         "-0.5564493294739136",
         "-0.3152336473299107",
         "-0.30645843996045397",
         "-0.3529199496837225",
         "-0.32640158107341044",
         "-0.376482280810407",
         "-0.0460091431926526"
        ],
        [
         "FFMC",
         "0.701897894209874",
         "-0.6551900970703527",
         "-0.12766495253976992",
         "-0.5564493294739136",
         "1.0",
         "0.6134601407704917",
         "0.49619969831185146",
         "0.7225747341648933",
         "0.604240618805787",
         "0.7581382764049868",
         "0.2671682348273664"
        ],
        [
         "DMC",
         "0.5059299730439083",
         "-0.4200648460072712",
         "0.01362741392661585",
         "-0.3152336473299107",
         "0.6134601407704917",
         "1.0",
         "0.8428733814390127",
         "0.6695757465281772",
         "0.978800445547243",
         "0.5891578466305016",
         "0.29631339105433674"
        ],
        [
         "DC",
         "0.3950956006964224",
         "-0.21885904828703465",
         "0.0919722717756375",
         "-0.30645843996045397",
         "0.49619969831185146",
         "0.8428733814390127",
         "1.0",
         "0.4612862515782082",
         "0.9224894220349299",
         "0.4880185923229193",
         "-0.016755646167917453"
        ],
        [
         "ISI",
         "0.6319149204981428",
         "-0.6812599052950064",
         "0.05246989949521149",
         "-0.3529199496837225",
         "0.7225747341648933",
         "0.6695757465281772",
         "0.4612862515782082",
         "1.0",
         "0.6312797767461366",
         "0.7158784396667726",
         "0.3303502557114251"
        ],
        [
         "BUI",
         "0.4853226642382461",
         "-0.36624522530701487",
         "0.04656733102259791",
         "-0.32640158107341044",
         "0.604240618805787",
         "0.978800445547243",
         "0.9224894220349299",
         "0.6312797767461366",
         "1.0",
         "0.5925314051851199",
         "0.18767934422145927"
        ],
        [
         "Classes",
         "0.5682524902389158",
         "-0.4559250844409202",
         "-0.03402135244652687",
         "-0.376482280810407",
         "0.7581382764049868",
         "0.5891578466305016",
         "0.4880185923229193",
         "0.7158784396667726",
         "0.5925314051851199",
         "1.0",
         "0.2463969611228856"
        ],
        [
         "Region",
         "0.29045432687152484",
         "-0.4380793489144908",
         "-0.14136506171592814",
         "-0.0460091431926526",
         "0.2671682348273664",
         "0.29631339105433674",
         "-0.016755646167917453",
         "0.3303502557114251",
         "0.18767934422145927",
         "0.2463969611228856",
         "1.0"
        ]
       ],
       "shape": {
        "columns": 11,
        "rows": 11
       }
      },
      "text/html": [
       "<div>\n",
       "<style scoped>\n",
       "    .dataframe tbody tr th:only-of-type {\n",
       "        vertical-align: middle;\n",
       "    }\n",
       "\n",
       "    .dataframe tbody tr th {\n",
       "        vertical-align: top;\n",
       "    }\n",
       "\n",
       "    .dataframe thead th {\n",
       "        text-align: right;\n",
       "    }\n",
       "</style>\n",
       "<table border=\"1\" class=\"dataframe\">\n",
       "  <thead>\n",
       "    <tr style=\"text-align: right;\">\n",
       "      <th></th>\n",
       "      <th>Temperature</th>\n",
       "      <th>RH</th>\n",
       "      <th>Ws</th>\n",
       "      <th>Rain</th>\n",
       "      <th>FFMC</th>\n",
       "      <th>DMC</th>\n",
       "      <th>DC</th>\n",
       "      <th>ISI</th>\n",
       "      <th>BUI</th>\n",
       "      <th>Classes</th>\n",
       "      <th>Region</th>\n",
       "    </tr>\n",
       "  </thead>\n",
       "  <tbody>\n",
       "    <tr>\n",
       "      <th>Temperature</th>\n",
       "      <td>1.000000</td>\n",
       "      <td>-0.664200</td>\n",
       "      <td>-0.227432</td>\n",
       "      <td>-0.365544</td>\n",
       "      <td>0.701898</td>\n",
       "      <td>0.505930</td>\n",
       "      <td>0.395096</td>\n",
       "      <td>0.631915</td>\n",
       "      <td>0.485323</td>\n",
       "      <td>0.568252</td>\n",
       "      <td>0.290454</td>\n",
       "    </tr>\n",
       "    <tr>\n",
       "      <th>RH</th>\n",
       "      <td>-0.664200</td>\n",
       "      <td>1.000000</td>\n",
       "      <td>0.251388</td>\n",
       "      <td>0.224790</td>\n",
       "      <td>-0.655190</td>\n",
       "      <td>-0.420065</td>\n",
       "      <td>-0.218859</td>\n",
       "      <td>-0.681260</td>\n",
       "      <td>-0.366245</td>\n",
       "      <td>-0.455925</td>\n",
       "      <td>-0.438079</td>\n",
       "    </tr>\n",
       "    <tr>\n",
       "      <th>Ws</th>\n",
       "      <td>-0.227432</td>\n",
       "      <td>0.251388</td>\n",
       "      <td>1.000000</td>\n",
       "      <td>0.068519</td>\n",
       "      <td>-0.127665</td>\n",
       "      <td>0.013627</td>\n",
       "      <td>0.091972</td>\n",
       "      <td>0.052470</td>\n",
       "      <td>0.046567</td>\n",
       "      <td>-0.034021</td>\n",
       "      <td>-0.141365</td>\n",
       "    </tr>\n",
       "    <tr>\n",
       "      <th>Rain</th>\n",
       "      <td>-0.365544</td>\n",
       "      <td>0.224790</td>\n",
       "      <td>0.068519</td>\n",
       "      <td>1.000000</td>\n",
       "      <td>-0.556449</td>\n",
       "      <td>-0.315234</td>\n",
       "      <td>-0.306458</td>\n",
       "      <td>-0.352920</td>\n",
       "      <td>-0.326402</td>\n",
       "      <td>-0.376482</td>\n",
       "      <td>-0.046009</td>\n",
       "    </tr>\n",
       "    <tr>\n",
       "      <th>FFMC</th>\n",
       "      <td>0.701898</td>\n",
       "      <td>-0.655190</td>\n",
       "      <td>-0.127665</td>\n",
       "      <td>-0.556449</td>\n",
       "      <td>1.000000</td>\n",
       "      <td>0.613460</td>\n",
       "      <td>0.496200</td>\n",
       "      <td>0.722575</td>\n",
       "      <td>0.604241</td>\n",
       "      <td>0.758138</td>\n",
       "      <td>0.267168</td>\n",
       "    </tr>\n",
       "    <tr>\n",
       "      <th>DMC</th>\n",
       "      <td>0.505930</td>\n",
       "      <td>-0.420065</td>\n",
       "      <td>0.013627</td>\n",
       "      <td>-0.315234</td>\n",
       "      <td>0.613460</td>\n",
       "      <td>1.000000</td>\n",
       "      <td>0.842873</td>\n",
       "      <td>0.669576</td>\n",
       "      <td>0.978800</td>\n",
       "      <td>0.589158</td>\n",
       "      <td>0.296313</td>\n",
       "    </tr>\n",
       "    <tr>\n",
       "      <th>DC</th>\n",
       "      <td>0.395096</td>\n",
       "      <td>-0.218859</td>\n",
       "      <td>0.091972</td>\n",
       "      <td>-0.306458</td>\n",
       "      <td>0.496200</td>\n",
       "      <td>0.842873</td>\n",
       "      <td>1.000000</td>\n",
       "      <td>0.461286</td>\n",
       "      <td>0.922489</td>\n",
       "      <td>0.488019</td>\n",
       "      <td>-0.016756</td>\n",
       "    </tr>\n",
       "    <tr>\n",
       "      <th>ISI</th>\n",
       "      <td>0.631915</td>\n",
       "      <td>-0.681260</td>\n",
       "      <td>0.052470</td>\n",
       "      <td>-0.352920</td>\n",
       "      <td>0.722575</td>\n",
       "      <td>0.669576</td>\n",
       "      <td>0.461286</td>\n",
       "      <td>1.000000</td>\n",
       "      <td>0.631280</td>\n",
       "      <td>0.715878</td>\n",
       "      <td>0.330350</td>\n",
       "    </tr>\n",
       "    <tr>\n",
       "      <th>BUI</th>\n",
       "      <td>0.485323</td>\n",
       "      <td>-0.366245</td>\n",
       "      <td>0.046567</td>\n",
       "      <td>-0.326402</td>\n",
       "      <td>0.604241</td>\n",
       "      <td>0.978800</td>\n",
       "      <td>0.922489</td>\n",
       "      <td>0.631280</td>\n",
       "      <td>1.000000</td>\n",
       "      <td>0.592531</td>\n",
       "      <td>0.187679</td>\n",
       "    </tr>\n",
       "    <tr>\n",
       "      <th>Classes</th>\n",
       "      <td>0.568252</td>\n",
       "      <td>-0.455925</td>\n",
       "      <td>-0.034021</td>\n",
       "      <td>-0.376482</td>\n",
       "      <td>0.758138</td>\n",
       "      <td>0.589158</td>\n",
       "      <td>0.488019</td>\n",
       "      <td>0.715878</td>\n",
       "      <td>0.592531</td>\n",
       "      <td>1.000000</td>\n",
       "      <td>0.246397</td>\n",
       "    </tr>\n",
       "    <tr>\n",
       "      <th>Region</th>\n",
       "      <td>0.290454</td>\n",
       "      <td>-0.438079</td>\n",
       "      <td>-0.141365</td>\n",
       "      <td>-0.046009</td>\n",
       "      <td>0.267168</td>\n",
       "      <td>0.296313</td>\n",
       "      <td>-0.016756</td>\n",
       "      <td>0.330350</td>\n",
       "      <td>0.187679</td>\n",
       "      <td>0.246397</td>\n",
       "      <td>1.000000</td>\n",
       "    </tr>\n",
       "  </tbody>\n",
       "</table>\n",
       "</div>"
      ],
      "text/plain": [
       "             Temperature        RH        Ws      Rain      FFMC       DMC  \\\n",
       "Temperature     1.000000 -0.664200 -0.227432 -0.365544  0.701898  0.505930   \n",
       "RH             -0.664200  1.000000  0.251388  0.224790 -0.655190 -0.420065   \n",
       "Ws             -0.227432  0.251388  1.000000  0.068519 -0.127665  0.013627   \n",
       "Rain           -0.365544  0.224790  0.068519  1.000000 -0.556449 -0.315234   \n",
       "FFMC            0.701898 -0.655190 -0.127665 -0.556449  1.000000  0.613460   \n",
       "DMC             0.505930 -0.420065  0.013627 -0.315234  0.613460  1.000000   \n",
       "DC              0.395096 -0.218859  0.091972 -0.306458  0.496200  0.842873   \n",
       "ISI             0.631915 -0.681260  0.052470 -0.352920  0.722575  0.669576   \n",
       "BUI             0.485323 -0.366245  0.046567 -0.326402  0.604241  0.978800   \n",
       "Classes         0.568252 -0.455925 -0.034021 -0.376482  0.758138  0.589158   \n",
       "Region          0.290454 -0.438079 -0.141365 -0.046009  0.267168  0.296313   \n",
       "\n",
       "                   DC       ISI       BUI   Classes    Region  \n",
       "Temperature  0.395096  0.631915  0.485323  0.568252  0.290454  \n",
       "RH          -0.218859 -0.681260 -0.366245 -0.455925 -0.438079  \n",
       "Ws           0.091972  0.052470  0.046567 -0.034021 -0.141365  \n",
       "Rain        -0.306458 -0.352920 -0.326402 -0.376482 -0.046009  \n",
       "FFMC         0.496200  0.722575  0.604241  0.758138  0.267168  \n",
       "DMC          0.842873  0.669576  0.978800  0.589158  0.296313  \n",
       "DC           1.000000  0.461286  0.922489  0.488019 -0.016756  \n",
       "ISI          0.461286  1.000000  0.631280  0.715878  0.330350  \n",
       "BUI          0.922489  0.631280  1.000000  0.592531  0.187679  \n",
       "Classes      0.488019  0.715878  0.592531  1.000000  0.246397  \n",
       "Region      -0.016756  0.330350  0.187679  0.246397  1.000000  "
      ]
     },
     "execution_count": 15,
     "metadata": {},
     "output_type": "execute_result"
    }
   ],
   "source": [
    "## feature selection based on correletion \n",
    "x_train.corr()"
   ]
  },
  {
   "cell_type": "code",
   "execution_count": 16,
   "id": "0e63ee24",
   "metadata": {},
   "outputs": [
    {
     "data": {
      "text/plain": [
       "<Axes: >"
      ]
     },
     "execution_count": 16,
     "metadata": {},
     "output_type": "execute_result"
    },
    {
     "data": {
      "image/png": "[encoded data removed]",
      "text/plain": [
       "<Figure size 1500x800 with 2 Axes>"
      ]
     },
     "metadata": {},
     "output_type": "display_data"
    }
   ],
   "source": [
    "## check for multi collinearity\n",
    "plt.figure(figsize=(15,8))\n",
    "corr=df.corr()\n",
    "sns.heatmap(corr,annot=True)"
   ]
  },
  {
   "cell_type": "code",
   "execution_count": 17,
   "id": "4c22a595",
   "metadata": {},
   "outputs": [],
   "source": [
    "def correlation(dataset,threshold):\n",
    "    col_corr=set()\n",
    "    corr_matrix=dataset.corr()\n",
    "    for i in range(len(corr_matrix.columns)):\n",
    "        for j in range(i):\n",
    "            if abs(corr_matrix.iloc[i,j])>threshold:\n",
    "                colname=corr_matrix.columns[i]\n",
    "                col_corr.add(colname)\n",
    "    return col_corr"
   ]
  },
  {
   "cell_type": "code",
   "execution_count": 18,
   "id": "1dcf9235",
   "metadata": {},
   "outputs": [],
   "source": [
    "## threshold --Domain Experties \n",
    "corr_features= correlation(x_train,0.80)"
   ]
  },
  {
   "cell_type": "code",
   "execution_count": 19,
   "id": "aac91ee6",
   "metadata": {},
   "outputs": [
    {
     "data": {
      "text/plain": [
       "((182, 9), (61, 9))"
      ]
     },
     "execution_count": 19,
     "metadata": {},
     "output_type": "execute_result"
    }
   ],
   "source": [
    "# drop features when correletion is more than 0.80\n",
    "x_train.drop(corr_features,axis=1,inplace=True)\n",
    "x_test.drop(corr_features,axis=1,inplace=True)\n",
    "x_train.shape,x_test.shape"
   ]
  },
  {
   "cell_type": "markdown",
   "id": "6e78c741",
   "metadata": {},
   "source": [
    "## Feature scaling or standerdization "
   ]
  },
  {
   "cell_type": "code",
   "execution_count": 20,
   "id": "844f489d",
   "metadata": {},
   "outputs": [],
   "source": [
    "from sklearn.preprocessing import StandardScaler \n",
    "scalar = StandardScaler()\n",
    "x_train_scaled =scalar.fit_transform(x_train) \n",
    "x_test_scaled = scalar.transform(x_test)"
   ]
  },
  {
   "cell_type": "code",
   "execution_count": 21,
   "id": "377db4ca",
   "metadata": {},
   "outputs": [
    {
     "data": {
      "text/plain": [
       "array([[-0.11905292, -0.96631281, -0.51148063, ..., -0.71366443,\n",
       "        -1.16774842, -0.98907071],\n",
       "       [-0.40045072,  0.1809519 ,  0.91517798, ...,  0.43994431,\n",
       "         0.85634884, -0.98907071],\n",
       "       [ 0.7251405 , -0.42642353, -1.22480994, ..., -0.73720747,\n",
       "        -1.16774842, -0.98907071],\n",
       "       ...,\n",
       "       [ 0.16234489,  0.99078581, -0.51148063, ..., -0.52532015,\n",
       "        -1.16774842, -0.98907071],\n",
       "       [ 0.7251405 , -0.1564789 ,  0.55851333, ...,  0.48703038,\n",
       "         0.85634884, -0.98907071],\n",
       "       [ 1.28793611, -0.35893738, -1.58147459, ...,  0.08679877,\n",
       "         0.85634884,  1.01105006]], shape=(182, 9))"
      ]
     },
     "execution_count": 21,
     "metadata": {},
     "output_type": "execute_result"
    }
   ],
   "source": [
    "x_train_scaled"
   ]
  },
  {
   "cell_type": "markdown",
   "id": "8601c5ab",
   "metadata": {},
   "source": [
    "## **Box Plots to understand Effect of standers scaller**"
   ]
  },
  {
   "cell_type": "code",
   "execution_count": 22,
   "id": "839f340b",
   "metadata": {},
   "outputs": [
    {
     "data": {
      "text/plain": [
       "Text(0.5, 1.0, 'X train after scalling')"
      ]
     },
     "execution_count": 22,
     "metadata": {},
     "output_type": "execute_result"
    },
    {
     "data": {
      "image/png": "[encoded data removed]",
      "text/plain": [
       "<Figure size 1500x500 with 3 Axes>"
      ]
     },
     "metadata": {},
     "output_type": "display_data"
    }
   ],
   "source": [
    "plt.subplots(figsize=(15,5))\n",
    "plt.subplot(1,2,1)\n",
    "sns.boxplot(data=x_train)\n",
    "plt.subplot(1,2,2)\n",
    "sns.boxplot(data=x_train_scaled)\n",
    "plt.title(\"X train after scalling\")\n"
   ]
  },
  {
   "cell_type": "markdown",
   "id": "bec09b5b",
   "metadata": {},
   "source": [
    "## **Linear Regression Model**"
   ]
  },
  {
   "cell_type": "code",
   "execution_count": 23,
   "id": "8ec062c3",
   "metadata": {},
   "outputs": [
    {
     "name": "stdout",
     "output_type": "stream",
     "text": [
      "Mean Absolute Error : 0.7989707049015321\n",
      "R2 Score :  0.9828269075084496\n"
     ]
    },
    {
     "data": {
      "text/plain": [
       "<matplotlib.collections.PathCollection at 0x23757b54830>"
      ]
     },
     "execution_count": 23,
     "metadata": {},
     "output_type": "execute_result"
    },
    {
     "data": {
      "image/png": "[encoded data removed]",
      "text/plain": [
       "<Figure size 640x480 with 1 Axes>"
      ]
     },
     "metadata": {},
     "output_type": "display_data"
    }
   ],
   "source": [
    "from sklearn.linear_model import LinearRegression\n",
    "from sklearn.metrics import mean_absolute_error\n",
    "from sklearn.metrics import r2_score\n",
    "linreg=LinearRegression()\n",
    "linreg.fit(x_train_scaled,y_train)\n",
    "y_pred = linreg.predict(x_test_scaled)\n",
    "mae = mean_absolute_error(y_test,y_pred)\n",
    "score = r2_score(y_test,y_pred)\n",
    "print(\"Mean Absolute Error :\",mae)\n",
    "print(\"R2 Score : \",score)\n",
    "plt.scatter(y_test,y_pred)"
   ]
  },
  {
   "cell_type": "markdown",
   "id": "e1140b74",
   "metadata": {},
   "source": [
    "## **Lasso Regression**"
   ]
  },
  {
   "cell_type": "code",
   "execution_count": 24,
   "id": "d50e284f",
   "metadata": {},
   "outputs": [
    {
     "name": "stdout",
     "output_type": "stream",
     "text": [
      "Mean Absolute Error : 1.5548854767874751\n",
      "R2 Score :  0.9335541661598643\n"
     ]
    },
    {
     "data": {
      "text/plain": [
       "<matplotlib.collections.PathCollection at 0x23759c09090>"
      ]
     },
     "execution_count": 24,
     "metadata": {},
     "output_type": "execute_result"
    },
    {
     "data": {
      "image/png": "[encoded data removed]",
      "text/plain": [
       "<Figure size 640x480 with 1 Axes>"
      ]
     },
     "metadata": {},
     "output_type": "display_data"
    }
   ],
   "source": [
    "from sklearn.linear_model import Lasso\n",
    "from sklearn.metrics import mean_absolute_error\n",
    "from sklearn.metrics import r2_score\n",
    "Lasso=Lasso()\n",
    "Lasso.fit(x_train_scaled,y_train)\n",
    "y_pred = Lasso.predict(x_test_scaled)\n",
    "mae = mean_absolute_error(y_test,y_pred)\n",
    "score = r2_score(y_test,y_pred)\n",
    "print(\"Mean Absolute Error :\",mae)\n",
    "print(\"R2 Score : \",score)\n",
    "plt.scatter(y_test,y_pred)"
   ]
  },
  {
   "cell_type": "markdown",
   "id": "40a4a9be",
   "metadata": {},
   "source": [
    "## **Cross Validation Lasso**"
   ]
  },
  {
   "cell_type": "code",
   "execution_count": 47,
   "id": "7345e9bc",
   "metadata": {},
   "outputs": [
    {
     "data": {
      "text/html": [
       "<style>#sk-container-id-3 {\n",
       "  /* Definition of color scheme common for light and dark mode */\n",
       "  --sklearn-color-text: #000;\n",
       "  --sklearn-color-text-muted: #666;\n",
       "  --sklearn-color-line: gray;\n",
       "  /* Definition of color scheme for unfitted estimators */\n",
       "  --sklearn-color-unfitted-level-0: #fff5e6;\n",
       "  --sklearn-color-unfitted-level-1: #f6e4d2;\n",
       "  --sklearn-color-unfitted-level-2: #ffe0b3;\n",
       "  --sklearn-color-unfitted-level-3: chocolate;\n",
       "  /* Definition of color scheme for fitted estimators */\n",
       "  --sklearn-color-fitted-level-0: #f0f8ff;\n",
       "  --sklearn-color-fitted-level-1: #d4ebff;\n",
       "  --sklearn-color-fitted-level-2: #b3dbfd;\n",
       "  --sklearn-color-fitted-level-3: cornflowerblue;\n",
       "\n",
       "  /* Specific color for light theme */\n",
       "  --sklearn-color-text-on-default-background: var(--sg-text-color, var(--theme-code-foreground, var(--jp-content-font-color1, black)));\n",
       "  --sklearn-color-background: var(--sg-background-color, var(--theme-background, var(--jp-layout-color0, white)));\n",
       "  --sklearn-color-border-box: var(--sg-text-color, var(--theme-code-foreground, var(--jp-content-font-color1, black)));\n",
       "  --sklearn-color-icon: #696969;\n",
       "\n",
       "  @media (prefers-color-scheme: dark) {\n",
       "    /* Redefinition of color scheme for dark theme */\n",
       "    --sklearn-color-text-on-default-background: var(--sg-text-color, var(--theme-code-foreground, var(--jp-content-font-color1, white)));\n",
       "    --sklearn-color-background: var(--sg-background-color, var(--theme-background, var(--jp-layout-color0, #111)));\n",
       "    --sklearn-color-border-box: var(--sg-text-color, var(--theme-code-foreground, var(--jp-content-font-color1, white)));\n",
       "    --sklearn-color-icon: #878787;\n",
       "  }\n",
       "}\n",
       "\n",
       "#sk-container-id-3 {\n",
       "  color: var(--sklearn-color-text);\n",
       "}\n",
       "\n",
       "#sk-container-id-3 pre {\n",
       "  padding: 0;\n",
       "}\n",
       "\n",
       "#sk-container-id-3 input.sk-hidden--visually {\n",
       "  border: 0;\n",
       "  clip: rect(1px 1px 1px 1px);\n",
       "  clip: rect(1px, 1px, 1px, 1px);\n",
       "  height: 1px;\n",
       "  margin: -1px;\n",
       "  overflow: hidden;\n",
       "  padding: 0;\n",
       "  position: absolute;\n",
       "  width: 1px;\n",
       "}\n",
       "\n",
       "#sk-container-id-3 div.sk-dashed-wrapped {\n",
       "  border: 1px dashed var(--sklearn-color-line);\n",
       "  margin: 0 0.4em 0.5em 0.4em;\n",
       "  box-sizing: border-box;\n",
       "  padding-bottom: 0.4em;\n",
       "  background-color: var(--sklearn-color-background);\n",
       "}\n",
       "\n",
       "#sk-container-id-3 div.sk-container {\n",
       "  /* jupyter's `normalize.less` sets `[hidden] { display: none; }`\n",
       "     but bootstrap.min.css set `[hidden] { display: none !important; }`\n",
       "     so we also need the `!important` here to be able to override the\n",
       "     default hidden behavior on the sphinx rendered scikit-learn.org.\n",
       "     See: https://github.com/scikit-learn/scikit-learn/issues/21755 */\n",
       "  display: inline-block !important;\n",
       "  position: relative;\n",
       "}\n",
       "\n",
       "#sk-container-id-3 div.sk-text-repr-fallback {\n",
       "  display: none;\n",
       "}\n",
       "\n",
       "div.sk-parallel-item,\n",
       "div.sk-serial,\n",
       "div.sk-item {\n",
       "  /* draw centered vertical line to link estimators */\n",
       "  background-image: linear-gradient(var(--sklearn-color-text-on-default-background), var(--sklearn-color-text-on-default-background));\n",
       "  background-size: 2px 100%;\n",
       "  background-repeat: no-repeat;\n",
       "  background-position: center center;\n",
       "}\n",
       "\n",
       "/* Parallel-specific style estimator block */\n",
       "\n",
       "#sk-container-id-3 div.sk-parallel-item::after {\n",
       "  content: \"\";\n",
       "  width: 100%;\n",
       "  border-bottom: 2px solid var(--sklearn-color-text-on-default-background);\n",
       "  flex-grow: 1;\n",
       "}\n",
       "\n",
       "#sk-container-id-3 div.sk-parallel {\n",
       "  display: flex;\n",
       "  align-items: stretch;\n",
       "  justify-content: center;\n",
       "  background-color: var(--sklearn-color-background);\n",
       "  position: relative;\n",
       "}\n",
       "\n",
       "#sk-container-id-3 div.sk-parallel-item {\n",
       "  display: flex;\n",
       "  flex-direction: column;\n",
       "}\n",
       "\n",
       "#sk-container-id-3 div.sk-parallel-item:first-child::after {\n",
       "  align-self: flex-end;\n",
       "  width: 50%;\n",
       "}\n",
       "\n",
       "#sk-container-id-3 div.sk-parallel-item:last-child::after {\n",
       "  align-self: flex-start;\n",
       "  width: 50%;\n",
       "}\n",
       "\n",
       "#sk-container-id-3 div.sk-parallel-item:only-child::after {\n",
       "  width: 0;\n",
       "}\n",
       "\n",
       "/* Serial-specific style estimator block */\n",
       "\n",
       "#sk-container-id-3 div.sk-serial {\n",
       "  display: flex;\n",
       "  flex-direction: column;\n",
       "  align-items: center;\n",
       "  background-color: var(--sklearn-color-background);\n",
       "  padding-right: 1em;\n",
       "  padding-left: 1em;\n",
       "}\n",
       "\n",
       "\n",
       "/* Toggleable style: style used for estimator/Pipeline/ColumnTransformer box that is\n",
       "clickable and can be expanded/collapsed.\n",
       "- Pipeline and ColumnTransformer use this feature and define the default style\n",
       "- Estimators will overwrite some part of the style using the `sk-estimator` class\n",
       "*/\n",
       "\n",
       "/* Pipeline and ColumnTransformer style (default) */\n",
       "\n",
       "#sk-container-id-3 div.sk-toggleable {\n",
       "  /* Default theme specific background. It is overwritten whether we have a\n",
       "  specific estimator or a Pipeline/ColumnTransformer */\n",
       "  background-color: var(--sklearn-color-background);\n",
       "}\n",
       "\n",
       "/* Toggleable label */\n",
       "#sk-container-id-3 label.sk-toggleable__label {\n",
       "  cursor: pointer;\n",
       "  display: flex;\n",
       "  width: 100%;\n",
       "  margin-bottom: 0;\n",
       "  padding: 0.5em;\n",
       "  box-sizing: border-box;\n",
       "  text-align: center;\n",
       "  align-items: start;\n",
       "  justify-content: space-between;\n",
       "  gap: 0.5em;\n",
       "}\n",
       "\n",
       "#sk-container-id-3 label.sk-toggleable__label .caption {\n",
       "  font-size: 0.6rem;\n",
       "  font-weight: lighter;\n",
       "  color: var(--sklearn-color-text-muted);\n",
       "}\n",
       "\n",
       "#sk-container-id-3 label.sk-toggleable__label-arrow:before {\n",
       "  /* Arrow on the left of the label */\n",
       "  content: \"▸\";\n",
       "  float: left;\n",
       "  margin-right: 0.25em;\n",
       "  color: var(--sklearn-color-icon);\n",
       "}\n",
       "\n",
       "#sk-container-id-3 label.sk-toggleable__label-arrow:hover:before {\n",
       "  color: var(--sklearn-color-text);\n",
       "}\n",
       "\n",
       "/* Toggleable content - dropdown */\n",
       "\n",
       "#sk-container-id-3 div.sk-toggleable__content {\n",
       "  display: none;\n",
       "  text-align: left;\n",
       "  /* unfitted */\n",
       "  background-color: var(--sklearn-color-unfitted-level-0);\n",
       "}\n",
       "\n",
       "#sk-container-id-3 div.sk-toggleable__content.fitted {\n",
       "  /* fitted */\n",
       "  background-color: var(--sklearn-color-fitted-level-0);\n",
       "}\n",
       "\n",
       "#sk-container-id-3 div.sk-toggleable__content pre {\n",
       "  margin: 0.2em;\n",
       "  border-radius: 0.25em;\n",
       "  color: var(--sklearn-color-text);\n",
       "  /* unfitted */\n",
       "  background-color: var(--sklearn-color-unfitted-level-0);\n",
       "}\n",
       "\n",
       "#sk-container-id-3 div.sk-toggleable__content.fitted pre {\n",
       "  /* unfitted */\n",
       "  background-color: var(--sklearn-color-fitted-level-0);\n",
       "}\n",
       "\n",
       "#sk-container-id-3 input.sk-toggleable__control:checked~div.sk-toggleable__content {\n",
       "  /* Expand drop-down */\n",
       "  display: block;\n",
       "  width: 100%;\n",
       "  overflow: visible;\n",
       "}\n",
       "\n",
       "#sk-container-id-3 input.sk-toggleable__control:checked~label.sk-toggleable__label-arrow:before {\n",
       "  content: \"▾\";\n",
       "}\n",
       "\n",
       "/* Pipeline/ColumnTransformer-specific style */\n",
       "\n",
       "#sk-container-id-3 div.sk-label input.sk-toggleable__control:checked~label.sk-toggleable__label {\n",
       "  color: var(--sklearn-color-text);\n",
       "  background-color: var(--sklearn-color-unfitted-level-2);\n",
       "}\n",
       "\n",
       "#sk-container-id-3 div.sk-label.fitted input.sk-toggleable__control:checked~label.sk-toggleable__label {\n",
       "  background-color: var(--sklearn-color-fitted-level-2);\n",
       "}\n",
       "\n",
       "/* Estimator-specific style */\n",
       "\n",
       "/* Colorize estimator box */\n",
       "#sk-container-id-3 div.sk-estimator input.sk-toggleable__control:checked~label.sk-toggleable__label {\n",
       "  /* unfitted */\n",
       "  background-color: var(--sklearn-color-unfitted-level-2);\n",
       "}\n",
       "\n",
       "#sk-container-id-3 div.sk-estimator.fitted input.sk-toggleable__control:checked~label.sk-toggleable__label {\n",
       "  /* fitted */\n",
       "  background-color: var(--sklearn-color-fitted-level-2);\n",
       "}\n",
       "\n",
       "#sk-container-id-3 div.sk-label label.sk-toggleable__label,\n",
       "#sk-container-id-3 div.sk-label label {\n",
       "  /* The background is the default theme color */\n",
       "  color: var(--sklearn-color-text-on-default-background);\n",
       "}\n",
       "\n",
       "/* On hover, darken the color of the background */\n",
       "#sk-container-id-3 div.sk-label:hover label.sk-toggleable__label {\n",
       "  color: var(--sklearn-color-text);\n",
       "  background-color: var(--sklearn-color-unfitted-level-2);\n",
       "}\n",
       "\n",
       "/* Label box, darken color on hover, fitted */\n",
       "#sk-container-id-3 div.sk-label.fitted:hover label.sk-toggleable__label.fitted {\n",
       "  color: var(--sklearn-color-text);\n",
       "  background-color: var(--sklearn-color-fitted-level-2);\n",
       "}\n",
       "\n",
       "/* Estimator label */\n",
       "\n",
       "#sk-container-id-3 div.sk-label label {\n",
       "  font-family: monospace;\n",
       "  font-weight: bold;\n",
       "  display: inline-block;\n",
       "  line-height: 1.2em;\n",
       "}\n",
       "\n",
       "#sk-container-id-3 div.sk-label-container {\n",
       "  text-align: center;\n",
       "}\n",
       "\n",
       "/* Estimator-specific */\n",
       "#sk-container-id-3 div.sk-estimator {\n",
       "  font-family: monospace;\n",
       "  border: 1px dotted var(--sklearn-color-border-box);\n",
       "  border-radius: 0.25em;\n",
       "  box-sizing: border-box;\n",
       "  margin-bottom: 0.5em;\n",
       "  /* unfitted */\n",
       "  background-color: var(--sklearn-color-unfitted-level-0);\n",
       "}\n",
       "\n",
       "#sk-container-id-3 div.sk-estimator.fitted {\n",
       "  /* fitted */\n",
       "  background-color: var(--sklearn-color-fitted-level-0);\n",
       "}\n",
       "\n",
       "/* on hover */\n",
       "#sk-container-id-3 div.sk-estimator:hover {\n",
       "  /* unfitted */\n",
       "  background-color: var(--sklearn-color-unfitted-level-2);\n",
       "}\n",
       "\n",
       "#sk-container-id-3 div.sk-estimator.fitted:hover {\n",
       "  /* fitted */\n",
       "  background-color: var(--sklearn-color-fitted-level-2);\n",
       "}\n",
       "\n",
       "/* Specification for estimator info (e.g. \"i\" and \"?\") */\n",
       "\n",
       "/* Common style for \"i\" and \"?\" */\n",
       "\n",
       ".sk-estimator-doc-link,\n",
       "a:link.sk-estimator-doc-link,\n",
       "a:visited.sk-estimator-doc-link {\n",
       "  float: right;\n",
       "  font-size: smaller;\n",
       "  line-height: 1em;\n",
       "  font-family: monospace;\n",
       "  background-color: var(--sklearn-color-background);\n",
       "  border-radius: 1em;\n",
       "  height: 1em;\n",
       "  width: 1em;\n",
       "  text-decoration: none !important;\n",
       "  margin-left: 0.5em;\n",
       "  text-align: center;\n",
       "  /* unfitted */\n",
       "  border: var(--sklearn-color-unfitted-level-1) 1pt solid;\n",
       "  color: var(--sklearn-color-unfitted-level-1);\n",
       "}\n",
       "\n",
       ".sk-estimator-doc-link.fitted,\n",
       "a:link.sk-estimator-doc-link.fitted,\n",
       "a:visited.sk-estimator-doc-link.fitted {\n",
       "  /* fitted */\n",
       "  border: var(--sklearn-color-fitted-level-1) 1pt solid;\n",
       "  color: var(--sklearn-color-fitted-level-1);\n",
       "}\n",
       "\n",
       "/* On hover */\n",
       "div.sk-estimator:hover .sk-estimator-doc-link:hover,\n",
       ".sk-estimator-doc-link:hover,\n",
       "div.sk-label-container:hover .sk-estimator-doc-link:hover,\n",
       ".sk-estimator-doc-link:hover {\n",
       "  /* unfitted */\n",
       "  background-color: var(--sklearn-color-unfitted-level-3);\n",
       "  color: var(--sklearn-color-background);\n",
       "  text-decoration: none;\n",
       "}\n",
       "\n",
       "div.sk-estimator.fitted:hover .sk-estimator-doc-link.fitted:hover,\n",
       ".sk-estimator-doc-link.fitted:hover,\n",
       "div.sk-label-container:hover .sk-estimator-doc-link.fitted:hover,\n",
       ".sk-estimator-doc-link.fitted:hover {\n",
       "  /* fitted */\n",
       "  background-color: var(--sklearn-color-fitted-level-3);\n",
       "  color: var(--sklearn-color-background);\n",
       "  text-decoration: none;\n",
       "}\n",
       "\n",
       "/* Span, style for the box shown on hovering the info icon */\n",
       ".sk-estimator-doc-link span {\n",
       "  display: none;\n",
       "  z-index: 9999;\n",
       "  position: relative;\n",
       "  font-weight: normal;\n",
       "  right: .2ex;\n",
       "  padding: .5ex;\n",
       "  margin: .5ex;\n",
       "  width: min-content;\n",
       "  min-width: 20ex;\n",
       "  max-width: 50ex;\n",
       "  color: var(--sklearn-color-text);\n",
       "  box-shadow: 2pt 2pt 4pt #999;\n",
       "  /* unfitted */\n",
       "  background: var(--sklearn-color-unfitted-level-0);\n",
       "  border: .5pt solid var(--sklearn-color-unfitted-level-3);\n",
       "}\n",
       "\n",
       ".sk-estimator-doc-link.fitted span {\n",
       "  /* fitted */\n",
       "  background: var(--sklearn-color-fitted-level-0);\n",
       "  border: var(--sklearn-color-fitted-level-3);\n",
       "}\n",
       "\n",
       ".sk-estimator-doc-link:hover span {\n",
       "  display: block;\n",
       "}\n",
       "\n",
       "/* \"?\"-specific style due to the `<a>` HTML tag */\n",
       "\n",
       "#sk-container-id-3 a.estimator_doc_link {\n",
       "  float: right;\n",
       "  font-size: 1rem;\n",
       "  line-height: 1em;\n",
       "  font-family: monospace;\n",
       "  background-color: var(--sklearn-color-background);\n",
       "  border-radius: 1rem;\n",
       "  height: 1rem;\n",
       "  width: 1rem;\n",
       "  text-decoration: none;\n",
       "  /* unfitted */\n",
       "  color: var(--sklearn-color-unfitted-level-1);\n",
       "  border: var(--sklearn-color-unfitted-level-1) 1pt solid;\n",
       "}\n",
       "\n",
       "#sk-container-id-3 a.estimator_doc_link.fitted {\n",
       "  /* fitted */\n",
       "  border: var(--sklearn-color-fitted-level-1) 1pt solid;\n",
       "  color: var(--sklearn-color-fitted-level-1);\n",
       "}\n",
       "\n",
       "/* On hover */\n",
       "#sk-container-id-3 a.estimator_doc_link:hover {\n",
       "  /* unfitted */\n",
       "  background-color: var(--sklearn-color-unfitted-level-3);\n",
       "  color: var(--sklearn-color-background);\n",
       "  text-decoration: none;\n",
       "}\n",
       "\n",
       "#sk-container-id-3 a.estimator_doc_link.fitted:hover {\n",
       "  /* fitted */\n",
       "  background-color: var(--sklearn-color-fitted-level-3);\n",
       "}\n",
       "\n",
       ".estimator-table summary {\n",
       "    padding: .5rem;\n",
       "    font-family: monospace;\n",
       "    cursor: pointer;\n",
       "}\n",
       "\n",
       ".estimator-table details[open] {\n",
       "    padding-left: 0.1rem;\n",
       "    padding-right: 0.1rem;\n",
       "    padding-bottom: 0.3rem;\n",
       "}\n",
       "\n",
       ".estimator-table .parameters-table {\n",
       "    margin-left: auto !important;\n",
       "    margin-right: auto !important;\n",
       "}\n",
       "\n",
       ".estimator-table .parameters-table tr:nth-child(odd) {\n",
       "    background-color: #fff;\n",
       "}\n",
       "\n",
       ".estimator-table .parameters-table tr:nth-child(even) {\n",
       "    background-color: #f6f6f6;\n",
       "}\n",
       "\n",
       ".estimator-table .parameters-table tr:hover {\n",
       "    background-color: #e0e0e0;\n",
       "}\n",
       "\n",
       ".estimator-table table td {\n",
       "    border: 1px solid rgba(106, 105, 104, 0.232);\n",
       "}\n",
       "\n",
       ".user-set td {\n",
       "    color:rgb(255, 94, 0);\n",
       "    text-align: left;\n",
       "}\n",
       "\n",
       ".user-set td.value pre {\n",
       "    color:rgb(255, 94, 0) !important;\n",
       "    background-color: transparent !important;\n",
       "}\n",
       "\n",
       ".default td {\n",
       "    color: black;\n",
       "    text-align: left;\n",
       "}\n",
       "\n",
       ".user-set td i,\n",
       ".default td i {\n",
       "    color: black;\n",
       "}\n",
       "\n",
       ".copy-paste-icon {\n",
       "    background-image: url(data:image/svg+xml;base64,PHN2ZyB4bWxucz0iaHR0cDovL3d3dy53My5vcmcvMjAwMC9zdmciIHZpZXdCb3g9IjAgMCA0NDggNTEyIj48IS0tIUZvbnQgQXdlc29tZSBGcmVlIDYuNy4yIGJ5IEBmb250YXdlc29tZSAtIGh0dHBzOi8vZm9udGF3ZXNvbWUuY29tIExpY2Vuc2UgLSBodHRwczovL2ZvbnRhd2Vzb21lLmNvbS9saWNlbnNlL2ZyZWUgQ29weXJpZ2h0IDIwMjUgRm9udGljb25zLCBJbmMuLS0+PHBhdGggZD0iTTIwOCAwTDMzMi4xIDBjMTIuNyAwIDI0LjkgNS4xIDMzLjkgMTQuMWw2Ny45IDY3LjljOSA5IDE0LjEgMjEuMiAxNC4xIDMzLjlMNDQ4IDMzNmMwIDI2LjUtMjEuNSA0OC00OCA0OGwtMTkyIDBjLTI2LjUgMC00OC0yMS41LTQ4LTQ4bDAtMjg4YzAtMjYuNSAyMS41LTQ4IDQ4LTQ4ek00OCAxMjhsODAgMCAwIDY0LTY0IDAgMCAyNTYgMTkyIDAgMC0zMiA2NCAwIDAgNDhjMCAyNi41LTIxLjUgNDgtNDggNDhMNDggNTEyYy0yNi41IDAtNDgtMjEuNS00OC00OEwwIDE3NmMwLTI2LjUgMjEuNS00OCA0OC00OHoiLz48L3N2Zz4=);\n",
       "    background-repeat: no-repeat;\n",
       "    background-size: 14px 14px;\n",
       "    background-position: 0;\n",
       "    display: inline-block;\n",
       "    width: 14px;\n",
       "    height: 14px;\n",
       "    cursor: pointer;\n",
       "}\n",
       "</style><body><div id=\"sk-container-id-3\" class=\"sk-top-container\"><div class=\"sk-text-repr-fallback\"><pre>LassoCV(cv=5)</pre><b>In a Jupyter environment, please rerun this cell to show the HTML representation or trust the notebook. <br />On GitHub, the HTML representation is unable to render, please try loading this page with nbviewer.org.</b></div><div class=\"sk-container\" hidden><div class=\"sk-item\"><div class=\"sk-estimator fitted sk-toggleable\"><input class=\"sk-toggleable__control sk-hidden--visually\" id=\"sk-estimator-id-3\" type=\"checkbox\" checked><label for=\"sk-estimator-id-3\" class=\"sk-toggleable__label fitted sk-toggleable__label-arrow\"><div><div>LassoCV</div></div><div><a class=\"sk-estimator-doc-link fitted\" rel=\"noreferrer\" target=\"_blank\" href=\"https://scikit-learn.org/1.7/modules/generated/sklearn.linear_model.LassoCV.html\">?<span>Documentation for LassoCV</span></a><span class=\"sk-estimator-doc-link fitted\">i<span>Fitted</span></span></div></label><div class=\"sk-toggleable__content fitted\" data-param-prefix=\"\">\n",
       "        <div class=\"estimator-table\">\n",
       "            <details>\n",
       "                <summary>Parameters</summary>\n",
       "                <table class=\"parameters-table\">\n",
       "                  <tbody>\n",
       "                    \n",
       "        <tr class=\"default\">\n",
       "            <td><i class=\"copy-paste-icon\"\n",
       "                 onclick=\"copyToClipboard('eps',\n",
       "                          this.parentElement.nextElementSibling)\"\n",
       "            ></i></td>\n",
       "            <td class=\"param\">eps&nbsp;</td>\n",
       "            <td class=\"value\">0.001</td>\n",
       "        </tr>\n",
       "    \n",
       "\n",
       "        <tr class=\"default\">\n",
       "            <td><i class=\"copy-paste-icon\"\n",
       "                 onclick=\"copyToClipboard('n_alphas',\n",
       "                          this.parentElement.nextElementSibling)\"\n",
       "            ></i></td>\n",
       "            <td class=\"param\">n_alphas&nbsp;</td>\n",
       "            <td class=\"value\">&#x27;deprecated&#x27;</td>\n",
       "        </tr>\n",
       "    \n",
       "\n",
       "        <tr class=\"default\">\n",
       "            <td><i class=\"copy-paste-icon\"\n",
       "                 onclick=\"copyToClipboard('alphas',\n",
       "                          this.parentElement.nextElementSibling)\"\n",
       "            ></i></td>\n",
       "            <td class=\"param\">alphas&nbsp;</td>\n",
       "            <td class=\"value\">&#x27;warn&#x27;</td>\n",
       "        </tr>\n",
       "    \n",
       "\n",
       "        <tr class=\"default\">\n",
       "            <td><i class=\"copy-paste-icon\"\n",
       "                 onclick=\"copyToClipboard('fit_intercept',\n",
       "                          this.parentElement.nextElementSibling)\"\n",
       "            ></i></td>\n",
       "            <td class=\"param\">fit_intercept&nbsp;</td>\n",
       "            <td class=\"value\">True</td>\n",
       "        </tr>\n",
       "    \n",
       "\n",
       "        <tr class=\"default\">\n",
       "            <td><i class=\"copy-paste-icon\"\n",
       "                 onclick=\"copyToClipboard('precompute',\n",
       "                          this.parentElement.nextElementSibling)\"\n",
       "            ></i></td>\n",
       "            <td class=\"param\">precompute&nbsp;</td>\n",
       "            <td class=\"value\">&#x27;auto&#x27;</td>\n",
       "        </tr>\n",
       "    \n",
       "\n",
       "        <tr class=\"default\">\n",
       "            <td><i class=\"copy-paste-icon\"\n",
       "                 onclick=\"copyToClipboard('max_iter',\n",
       "                          this.parentElement.nextElementSibling)\"\n",
       "            ></i></td>\n",
       "            <td class=\"param\">max_iter&nbsp;</td>\n",
       "            <td class=\"value\">1000</td>\n",
       "        </tr>\n",
       "    \n",
       "\n",
       "        <tr class=\"default\">\n",
       "            <td><i class=\"copy-paste-icon\"\n",
       "                 onclick=\"copyToClipboard('tol',\n",
       "                          this.parentElement.nextElementSibling)\"\n",
       "            ></i></td>\n",
       "            <td class=\"param\">tol&nbsp;</td>\n",
       "            <td class=\"value\">0.0001</td>\n",
       "        </tr>\n",
       "    \n",
       "\n",
       "        <tr class=\"default\">\n",
       "            <td><i class=\"copy-paste-icon\"\n",
       "                 onclick=\"copyToClipboard('copy_X',\n",
       "                          this.parentElement.nextElementSibling)\"\n",
       "            ></i></td>\n",
       "            <td class=\"param\">copy_X&nbsp;</td>\n",
       "            <td class=\"value\">True</td>\n",
       "        </tr>\n",
       "    \n",
       "\n",
       "        <tr class=\"user-set\">\n",
       "            <td><i class=\"copy-paste-icon\"\n",
       "                 onclick=\"copyToClipboard('cv',\n",
       "                          this.parentElement.nextElementSibling)\"\n",
       "            ></i></td>\n",
       "            <td class=\"param\">cv&nbsp;</td>\n",
       "            <td class=\"value\">5</td>\n",
       "        </tr>\n",
       "    \n",
       "\n",
       "        <tr class=\"default\">\n",
       "            <td><i class=\"copy-paste-icon\"\n",
       "                 onclick=\"copyToClipboard('verbose',\n",
       "                          this.parentElement.nextElementSibling)\"\n",
       "            ></i></td>\n",
       "            <td class=\"param\">verbose&nbsp;</td>\n",
       "            <td class=\"value\">False</td>\n",
       "        </tr>\n",
       "    \n",
       "\n",
       "        <tr class=\"default\">\n",
       "            <td><i class=\"copy-paste-icon\"\n",
       "                 onclick=\"copyToClipboard('n_jobs',\n",
       "                          this.parentElement.nextElementSibling)\"\n",
       "            ></i></td>\n",
       "            <td class=\"param\">n_jobs&nbsp;</td>\n",
       "            <td class=\"value\">None</td>\n",
       "        </tr>\n",
       "    \n",
       "\n",
       "        <tr class=\"default\">\n",
       "            <td><i class=\"copy-paste-icon\"\n",
       "                 onclick=\"copyToClipboard('positive',\n",
       "                          this.parentElement.nextElementSibling)\"\n",
       "            ></i></td>\n",
       "            <td class=\"param\">positive&nbsp;</td>\n",
       "            <td class=\"value\">False</td>\n",
       "        </tr>\n",
       "    \n",
       "\n",
       "        <tr class=\"default\">\n",
       "            <td><i class=\"copy-paste-icon\"\n",
       "                 onclick=\"copyToClipboard('random_state',\n",
       "                          this.parentElement.nextElementSibling)\"\n",
       "            ></i></td>\n",
       "            <td class=\"param\">random_state&nbsp;</td>\n",
       "            <td class=\"value\">None</td>\n",
       "        </tr>\n",
       "    \n",
       "\n",
       "        <tr class=\"default\">\n",
       "            <td><i class=\"copy-paste-icon\"\n",
       "                 onclick=\"copyToClipboard('selection',\n",
       "                          this.parentElement.nextElementSibling)\"\n",
       "            ></i></td>\n",
       "            <td class=\"param\">selection&nbsp;</td>\n",
       "            <td class=\"value\">&#x27;cyclic&#x27;</td>\n",
       "        </tr>\n",
       "    \n",
       "                  </tbody>\n",
       "                </table>\n",
       "            </details>\n",
       "        </div>\n",
       "    </div></div></div></div></div><script>function copyToClipboard(text, element) {\n",
       "    // Get the parameter prefix from the closest toggleable content\n",
       "    const toggleableContent = element.closest('.sk-toggleable__content');\n",
       "    const paramPrefix = toggleableContent ? toggleableContent.dataset.paramPrefix : '';\n",
       "    const fullParamName = paramPrefix ? `${paramPrefix}${text}` : text;\n",
       "\n",
       "    const originalStyle = element.style;\n",
       "    const computedStyle = window.getComputedStyle(element);\n",
       "    const originalWidth = computedStyle.width;\n",
       "    const originalHTML = element.innerHTML.replace('Copied!', '');\n",
       "\n",
       "    navigator.clipboard.writeText(fullParamName)\n",
       "        .then(() => {\n",
       "            element.style.width = originalWidth;\n",
       "            element.style.color = 'green';\n",
       "            element.innerHTML = \"Copied!\";\n",
       "\n",
       "            setTimeout(() => {\n",
       "                element.innerHTML = originalHTML;\n",
       "                element.style = originalStyle;\n",
       "            }, 2000);\n",
       "        })\n",
       "        .catch(err => {\n",
       "            console.error('Failed to copy:', err);\n",
       "            element.style.color = 'red';\n",
       "            element.innerHTML = \"Failed!\";\n",
       "            setTimeout(() => {\n",
       "                element.innerHTML = originalHTML;\n",
       "                element.style = originalStyle;\n",
       "            }, 2000);\n",
       "        });\n",
       "    return false;\n",
       "}\n",
       "\n",
       "document.querySelectorAll('.fa-regular.fa-copy').forEach(function(element) {\n",
       "    const toggleableContent = element.closest('.sk-toggleable__content');\n",
       "    const paramPrefix = toggleableContent ? toggleableContent.dataset.paramPrefix : '';\n",
       "    const paramName = element.parentElement.nextElementSibling.textContent.trim();\n",
       "    const fullParamName = paramPrefix ? `${paramPrefix}${paramName}` : paramName;\n",
       "\n",
       "    element.setAttribute('title', fullParamName);\n",
       "});\n",
       "</script></body>"
      ],
      "text/plain": [
       "LassoCV(cv=5)"
      ]
     },
     "execution_count": 47,
     "metadata": {},
     "output_type": "execute_result"
    }
   ],
   "source": [
    "from sklearn.linear_model import LassoCV\n",
    "lassocv = LassoCV(cv=5)\n",
    "lassocv.fit(x_train_scaled,y_train)"
   ]
  },
  {
   "cell_type": "code",
   "execution_count": 48,
   "id": "23b228f5",
   "metadata": {},
   "outputs": [
    {
     "data": {
      "text/plain": [
       "np.float64(0.03794766598491662)"
      ]
     },
     "execution_count": 48,
     "metadata": {},
     "output_type": "execute_result"
    }
   ],
   "source": [
    "lassocv.alpha_"
   ]
  },
  {
   "cell_type": "code",
   "execution_count": 49,
   "id": "eb19ecb8",
   "metadata": {},
   "outputs": [
    {
     "data": {
      "text/plain": [
       "array([6.6314624 , 6.18452403, 5.76770781, 5.37898361, 5.01645812,\n",
       "       4.67836563, 4.36305944, 4.06900384, 3.7947666 , 3.53901203,\n",
       "       3.30049446, 3.07805218, 2.87060177, 2.67713282, 2.49670302,\n",
       "       2.3284336 , 2.17150497, 2.0251528 , 1.88866428, 1.76137463,\n",
       "       1.64266387, 1.53195383, 1.42870526, 1.33241531, 1.24261498,\n",
       "       1.15886689, 1.08076314, 1.00792332, 0.93999266, 0.8766403 ,\n",
       "       0.81755768, 0.76245703, 0.71106998, 0.66314624, 0.6184524 ,\n",
       "       0.57677078, 0.53789836, 0.50164581, 0.46783656, 0.43630594,\n",
       "       0.40690038, 0.37947666, 0.3539012 , 0.33004945, 0.30780522,\n",
       "       0.28706018, 0.26771328, 0.2496703 , 0.23284336, 0.2171505 ,\n",
       "       0.20251528, 0.18886643, 0.17613746, 0.16426639, 0.15319538,\n",
       "       0.14287053, 0.13324153, 0.1242615 , 0.11588669, 0.10807631,\n",
       "       0.10079233, 0.09399927, 0.08766403, 0.08175577, 0.0762457 ,\n",
       "       0.071107  , 0.06631462, 0.06184524, 0.05767708, 0.05378984,\n",
       "       0.05016458, 0.04678366, 0.04363059, 0.04069004, 0.03794767,\n",
       "       0.03539012, 0.03300494, 0.03078052, 0.02870602, 0.02677133,\n",
       "       0.02496703, 0.02328434, 0.02171505, 0.02025153, 0.01888664,\n",
       "       0.01761375, 0.01642664, 0.01531954, 0.01428705, 0.01332415,\n",
       "       0.01242615, 0.01158867, 0.01080763, 0.01007923, 0.00939993,\n",
       "       0.0087664 , 0.00817558, 0.00762457, 0.0071107 , 0.00663146])"
      ]
     },
     "execution_count": 49,
     "metadata": {},
     "output_type": "execute_result"
    }
   ],
   "source": [
    "lassocv.alphas_"
   ]
  },
  {
   "cell_type": "code",
   "execution_count": 50,
   "metadata": {},
   "outputs": [
    {
     "data": {
      "text/plain": [
       "array([[42.16385834, 70.31749361, 59.68954911, 32.81058642, 47.41826354],\n",
       "       [36.82181167, 70.31749361, 55.88729986, 28.65272735, 42.98107086],\n",
       "       [32.19060868, 64.7426212 , 50.05354676, 24.97878644, 39.1480516 ],\n",
       "       [28.16305636, 57.968921  , 44.93909466, 21.78930427, 35.83874412],\n",
       "       [24.66050627, 52.02773734, 40.4529869 , 19.02074668, 32.98328609],\n",
       "       [21.61456229, 46.28846136, 35.67175823, 16.61796549, 30.52102593],\n",
       "       [18.96569862, 40.83970582, 31.43114895, 14.53294695, 28.3993156 ],\n",
       "       [16.66218423, 36.07264279, 27.73277167, 12.72397879, 26.57246113],\n",
       "       [14.65901465, 31.90095678, 24.50644304, 11.15476628, 25.00081034],\n",
       "       [12.91706899, 28.2485681 , 21.6913298 ,  9.79387303, 22.78767811],\n",
       "       [11.40226343, 25.04945984, 19.23447843,  8.6138671 , 20.2514538 ],\n",
       "       [10.08501401, 22.24610461, 17.08955367,  7.5909431 , 18.06750559],\n",
       "       [ 8.93957192, 19.78836607, 15.21694043,  6.70441281, 16.18809449],\n",
       "       [ 7.9435433 , 17.63226022, 13.58141541,  5.93629806, 14.57220086],\n",
       "       [ 7.07745216, 15.74029113, 12.15255717,  5.27097668, 13.18334323],\n",
       "       [ 6.32436029, 14.07891738, 10.90387592,  4.69483205, 11.99255496],\n",
       "       [ 5.66955978, 12.61917073,  9.8123033 ,  4.19615961, 10.97205673],\n",
       "       [ 5.10019082, 11.33578438,  8.8577487 ,  3.76466702, 10.09864269],\n",
       "       [ 4.60513678, 10.2067155 ,  8.02259622,  3.39145389,  9.35220042],\n",
       "       [ 4.17470771,  9.21272979,  7.29186359,  3.06878925,  8.71530149],\n",
       "       [ 3.80047646,  8.33703988,  6.6521233 ,  2.78995856,  8.17284756],\n",
       "       [ 3.47511418,  7.56499058,  6.0918054 ,  2.54913066,  7.71176279],\n",
       "       [ 3.19224722,  6.88358739,  5.6008282 ,  2.34124208,  7.32072668],\n",
       "       [ 2.94633265,  6.28207209,  5.17040541,  2.16189655,  6.9893192 ],\n",
       "       [ 2.7325758 ,  5.75045414,  4.79287863,  2.00723421,  6.71037817],\n",
       "       [ 2.54673116,  5.28019851,  4.46157154,  1.8740323 ,  6.47587768],\n",
       "       [ 2.38518097,  4.86384387,  4.17066304,  1.75936896,  6.27948027],\n",
       "       [ 2.24475499,  4.49486494,  3.91510665,  1.66074926,  6.11571351],\n",
       "       [ 2.12269625,  4.167553  ,  3.69042497,  1.57600878,  5.97985209],\n",
       "       [ 2.01660723,  3.87691173,  3.492773  ,  1.50327006,  5.86781822],\n",
       "       [ 1.92440304,  3.61856657,  3.31878086,  1.44090487,  5.77609508],\n",
       "       [ 1.84427067,  3.38868565,  3.16550733,  1.38750145,  5.70165181],\n",
       "       [ 1.77463358,  3.18378748,  3.03038482,  1.34183599,  5.64187827],\n",
       "       [ 1.71412084,  3.00118943,  2.91117133,  1.3028479 ,  5.59411086],\n",
       "       [ 1.66156609,  2.83816954,  2.80590865,  1.26957481,  5.55729362],\n",
       "       [ 1.61587953,  2.6924606 ,  2.71288594,  1.24131068,  5.52931063],\n",
       "       [ 1.57618724,  2.5620722 ,  2.63060806,  1.2173201 ,  5.50873539],\n",
       "       [ 1.54170571,  2.44711905,  2.55789858,  1.19700625,  5.49434937],\n",
       "       [ 1.51175348,  2.35271699,  2.49335194,  1.17985301,  5.48510992],\n",
       "       [ 1.48573803,  2.26741798,  2.43609782,  1.16541404,  5.48012611],\n",
       "       [ 1.46314421,  2.19105618,  2.3852627 ,  1.15330343,  5.47863793],\n",
       "       [ 1.44352412,  2.12244541,  2.34008051,  1.14318775,  5.47999824],\n",
       "       [ 1.42648834,  2.06072583,  2.2998802 ,  1.13477902,  5.48365709],\n",
       "       [ 1.41169833,  2.00513772,  2.26407376,  1.12782866,  5.48883281],\n",
       "       [ 1.39474948,  1.95501102,  2.23214564,  1.12212224,  5.4957848 ],\n",
       "       [ 1.37943898,  1.9067861 ,  2.20376314,  1.11743226,  5.50384655],\n",
       "       [ 1.36789553,  1.85847989,  2.18061256,  1.11368706,  5.51273193],\n",
       "       [ 1.35952163,  1.815348  ,  2.14684341,  1.11070524,  5.52220725],\n",
       "       [ 1.35375508,  1.7763789 ,  2.11135616,  1.09455657,  5.52187533],\n",
       "       [ 1.3501701 ,  1.74112827,  2.07991864,  1.06431035,  5.50701129],\n",
       "       [ 1.34838621,  1.70920347,  2.05281161,  1.038484  ,  5.49469933],\n",
       "       [ 1.34807892,  1.6802566 ,  2.02921144,  1.01140622,  5.48798619],\n",
       "       [ 1.3485676 ,  1.6535196 ,  2.00864258,  0.98850434,  5.4888349 ],\n",
       "       [ 1.34432753,  1.62966299,  1.99071337,  0.96927165,  5.49730371],\n",
       "       [ 1.34147807,  1.60796739,  1.97508268,  0.95326272,  5.51504008],\n",
       "       [ 1.33378661,  1.58820597,  1.9614536 ,  0.9399159 ,  5.53526163],\n",
       "       [ 1.31563245,  1.55319202,  1.92594112,  0.9260562 ,  5.55718495],\n",
       "       [ 1.29973141,  1.50466175,  1.88662173,  0.91323746,  5.58028221],\n",
       "       [ 1.28182229,  1.4611676 ,  1.85176705,  0.88891787,  5.60413787],\n",
       "       [ 1.25673012,  1.42215181,  1.82059858,  0.84440707,  5.62656998],\n",
       "       [ 1.23471093,  1.3866859 ,  1.79240313,  0.80539255,  5.63668871],\n",
       "       [ 1.21526456,  1.35521448,  1.76742126,  0.7710757 ,  5.64987017],\n",
       "       [ 1.19807711,  1.32687578,  1.74500468,  0.74087121,  5.66328383],\n",
       "       [ 1.18287279,  1.30133212,  1.72486568,  0.71426753,  5.67721712],\n",
       "       [ 1.16941055,  1.27827978,  1.70675099,  0.69081812,  5.69202439],\n",
       "       [ 1.15757567,  1.25745059,  1.6904373 ,  0.67024311,  5.7063334 ],\n",
       "       [ 1.14697878,  1.23860549,  1.67572768,  0.65196838,  5.72098636],\n",
       "       [ 1.13757105,  1.22117035,  1.66233648,  0.63582429,  5.73863044],\n",
       "       [ 1.12920823,  1.20570877,  1.65033394,  0.62154755,  5.75530268],\n",
       "       [ 1.12176641,  1.19165945,  1.64439426,  0.60891084,  5.77220209],\n",
       "       [ 1.11731756,  1.17886514,  1.64238018,  0.59771534,  5.78792915],\n",
       "       [ 1.11507175,  1.16716017,  1.64141396,  0.58778713,  5.80465824],\n",
       "       [ 1.11318266,  1.15649096,  1.64096341,  0.57897402,  5.81972704],\n",
       "       [ 1.11161103,  1.14675821,  1.64093972,  0.57123348,  5.83538038],\n",
       "       [ 1.11031093,  1.13787042,  1.64087795,  0.56425641,  5.85087437],\n",
       "       [ 1.10924247,  1.12974604,  1.6414946 ,  0.55804582,  5.86608622],\n",
       "       [ 1.10837126,  1.12203645,  1.64233959,  0.55250923,  5.88093608],\n",
       "       [ 1.10761544,  1.115245  ,  1.64335342,  0.54859303,  5.89591719],\n",
       "       [ 1.10881362,  1.10902113,  1.64449678,  0.54676591,  5.9098665 ],\n",
       "       [ 1.11014657,  1.10331042,  1.64544622,  0.54528479,  5.92328844],\n",
       "       [ 1.11139048,  1.09806646,  1.64673873,  0.54405165,  5.93618552],\n",
       "       [ 1.11278418,  1.093245  ,  1.64810684,  0.54296326,  5.94854222],\n",
       "       [ 1.11418084,  1.08910737,  1.64949282,  0.54211788,  5.96074633],\n",
       "       [ 1.1155667 ,  1.08545765,  1.65088412,  0.54143805,  5.97204696],\n",
       "       [ 1.1168159 ,  1.08221364,  1.65226748,  0.54088965,  5.98273961],\n",
       "       [ 1.11815096,  1.0792261 ,  1.65363223,  0.54045271,  5.99290322],\n",
       "       [ 1.11945827,  1.07647206,  1.65479829,  0.54005514,  6.0027719 ],\n",
       "       [ 1.12072504,  1.07393195,  1.65606275,  0.5397807 ,  6.01200779],\n",
       "       [ 1.12194815,  1.07149228,  1.65734431,  0.53958733,  6.02062598],\n",
       "       [ 1.1230316 ,  1.0693288 ,  1.65857949,  0.53945011,  6.02877416],\n",
       "       [ 1.12415012,  1.06733529,  1.65976828,  0.5393593 ,  6.03651231],\n",
       "       [ 1.12523682,  1.06549154,  1.66090941,  0.53926461,  6.04394201],\n",
       "       [ 1.12627379,  1.06378617,  1.66190933,  0.53922826,  6.05077171],\n",
       "       [ 1.12726179,  1.06213298,  1.66288851,  0.5392353 ,  6.05719313],\n",
       "       [ 1.12813045,  1.06066414,  1.66389157,  0.5392646 ,  6.06310033],\n",
       "       [ 1.12900026,  1.05931714,  1.66484818,  0.53931048,  6.06901643],\n",
       "       [ 1.12985068,  1.05806815,  1.66575516,  0.5393386 ,  6.07439364],\n",
       "       [ 1.13065658,  1.05685367,  1.66657593,  0.53938771,  6.07939796],\n",
       "       [ 1.1314185 ,  1.05575936,  1.66730619,  0.53946385,  6.08409633],\n",
       "       [ 1.13208669,  1.05476785,  1.66783253,  0.53954882,  6.08850566]])"
      ]
     },
     "execution_count": 50,
     "metadata": {},
     "output_type": "execute_result"
    }
   ],
   "source": [
    "lassocv.mse_path_"
   ]
  },
  {
   "cell_type": "code",
   "execution_count": 51,
   "metadata": {},
   "outputs": [
    {
     "name": "stdout",
     "output_type": "stream",
     "text": [
      "Mean Absolute Error : 0.8038174123345924\n",
      "R2 Score :  0.9820615846991444\n"
     ]
    },
    {
     "data": {
      "text/plain": [
       "<matplotlib.collections.PathCollection at 0x2375bd90690>"
      ]
     },
     "execution_count": 51,
     "metadata": {},
     "output_type": "execute_result"
    },
    {
     "data": {
      "image/png": "[encoded data removed]",
      "text/plain": [
       "<Figure size 640x480 with 1 Axes>"
      ]
     },
     "metadata": {},
     "output_type": "display_data"
    }
   ],
   "source": [
    "y_pred = lassocv.predict(x_test_scaled)\n",
    "mae = mean_absolute_error(y_test,y_pred)\n",
    "score = r2_score(y_test,y_pred)\n",
    "print(\"Mean Absolute Error :\",mae)\n",
    "print(\"R2 Score : \",score)\n",
    "plt.scatter(y_test,y_pred)"
   ]
  },
  {
   "cell_type": "markdown",
   "id": "398a9cdd",
   "metadata": {},
   "source": [
    "## **Ridge Regression**"
   ]
  },
  {
   "cell_type": "code",
   "execution_count": 25,
   "id": "df5144cf",
   "metadata": {},
   "outputs": [
    {
     "name": "stdout",
     "output_type": "stream",
     "text": [
      "Mean Absolute Error : 0.8088706605957151\n",
      "R2 Score :  0.9823700531409747\n"
     ]
    },
    {
     "data": {
      "text/plain": [
       "<matplotlib.collections.PathCollection at 0x23759c67610>"
      ]
     },
     "execution_count": 25,
     "metadata": {},
     "output_type": "execute_result"
    },
    {
     "data": {
      "image/png": "[encoded data removed]",
      "text/plain": [
       "<Figure size 640x480 with 1 Axes>"
      ]
     },
     "metadata": {},
     "output_type": "display_data"
    }
   ],
   "source": [
    "from sklearn.linear_model import Ridge\n",
    "from sklearn.metrics import mean_absolute_error\n",
    "from sklearn.metrics import r2_score\n",
    "Ridge=Ridge()\n",
    "Ridge.fit(x_train_scaled,y_train)\n",
    "y_pred = Ridge.predict(x_test_scaled)\n",
    "mae = mean_absolute_error(y_test,y_pred)\n",
    "score = r2_score(y_test,y_pred)\n",
    "print(\"Mean Absolute Error :\",mae)\n",
    "print(\"R2 Score : \",score)\n",
    "plt.scatter(y_test,y_pred)"
   ]
  },
  {
   "cell_type": "code",
   "execution_count": 52,
   "id": "7466bda6",
   "metadata": {},
   "outputs": [
    {
     "name": "stdout",
     "output_type": "stream",
     "text": [
      "Mean Absolute Error : 0.8088706605957151\n",
      "R2 Score :  0.9823700531409747\n"
     ]
    },
    {
     "data": {
      "text/plain": [
       "<matplotlib.collections.PathCollection at 0x2375bb902d0>"
      ]
     },
     "execution_count": 52,
     "metadata": {},
     "output_type": "execute_result"
    },
    {
     "data": {
      "image/png": "[encoded data removed]",
      "text/plain": [
       "<Figure size 640x480 with 1 Axes>"
      ]
     },
     "metadata": {},
     "output_type": "display_data"
    }
   ],
   "source": [
    "from sklearn.linear_model import RidgeCV\n",
    "ridgecv =RidgeCV(cv=5)\n",
    "ridgecv.fit(x_train_scaled,y_train)\n",
    "y_pred = ridgecv.predict(x_test_scaled)\n",
    "mae = mean_absolute_error(y_test,y_pred)\n",
    "score = r2_score(y_test,y_pred)\n",
    "print(\"Mean Absolute Error :\",mae)\n",
    "print(\"R2 Score : \",score)\n",
    "plt.scatter(y_test,y_pred)"
   ]
  },
  {
   "cell_type": "code",
   "execution_count": 53,
   "id": "ba2bcbdb",
   "metadata": {},
   "outputs": [
    {
     "data": {
      "text/plain": [
       "np.float64(1.0)"
      ]
     },
     "execution_count": 53,
     "metadata": {},
     "output_type": "execute_result"
    }
   ],
   "source": [
    "ridgecv.alpha_"
   ]
  },
  {
   "cell_type": "code",
   "execution_count": 55,
   "id": "937549dd",
   "metadata": {},
   "outputs": [
    {
     "data": {
      "text/plain": [
       "(0.1, 1.0, 10.0)"
      ]
     },
     "execution_count": 55,
     "metadata": {},
     "output_type": "execute_result"
    }
   ],
   "source": [
    "ridgecv.alphas"
   ]
  },
  {
   "cell_type": "markdown",
   "id": "41a01f29",
   "metadata": {},
   "source": [
    "## **Elasticnet Regression**"
   ]
  },
  {
   "cell_type": "code",
   "execution_count": 26,
   "id": "a8085ab0",
   "metadata": {},
   "outputs": [
    {
     "name": "stdout",
     "output_type": "stream",
     "text": [
      "Mean Absolute Error : 2.0501186283140065\n",
      "R2 Score :  0.8766369741314818\n"
     ]
    },
    {
     "data": {
      "text/plain": [
       "<matplotlib.collections.PathCollection at 0x23759d06350>"
      ]
     },
     "execution_count": 26,
     "metadata": {},
     "output_type": "execute_result"
    },
    {
     "data": {
      "image/png": "[encoded data removed]",
      "text/plain": [
       "<Figure size 640x480 with 1 Axes>"
      ]
     },
     "metadata": {},
     "output_type": "display_data"
    }
   ],
   "source": [
    "from sklearn.linear_model import ElasticNet\n",
    "from sklearn.metrics import mean_absolute_error\n",
    "from sklearn.metrics import r2_score\n",
    "elastic=ElasticNet()\n",
    "elastic.fit(x_train_scaled,y_train)\n",
    "y_pred = elastic.predict(x_test_scaled)\n",
    "mae = mean_absolute_error(y_test,y_pred)\n",
    "score = r2_score(y_test,y_pred)\n",
    "print(\"Mean Absolute Error :\",mae)\n",
    "print(\"R2 Score : \",score)\n",
    "plt.scatter(y_test,y_pred)"
   ]
  },
  {
   "cell_type": "code",
   "execution_count": 56,
   "id": "dcb59e0a",
   "metadata": {},
   "outputs": [
    {
     "name": "stdout",
     "output_type": "stream",
     "text": [
      "Mean Absolute Error : 0.8167191746741141\n",
      "R2 Score :  0.9817600814262316\n"
     ]
    },
    {
     "data": {
      "text/plain": [
       "<matplotlib.collections.PathCollection at 0x2375bc265d0>"
      ]
     },
     "execution_count": 56,
     "metadata": {},
     "output_type": "execute_result"
    },
    {
     "data": {
      "image/png": "[encoded data removed]",
      "text/plain": [
       "<Figure size 640x480 with 1 Axes>"
      ]
     },
     "metadata": {},
     "output_type": "display_data"
    }
   ],
   "source": [
    "from sklearn.linear_model import ElasticNetCV\n",
    "elasticnetcv =ElasticNetCV(cv=5)\n",
    "elasticnetcv.fit(x_train_scaled,y_train)\n",
    "y_pred = elasticnetcv.predict(x_test_scaled)\n",
    "mae = mean_absolute_error(y_test,y_pred)\n",
    "score = r2_score(y_test,y_pred)\n",
    "print(\"Mean Absolute Error :\",mae)\n",
    "print(\"R2 Score : \",score)\n",
    "plt.scatter(y_test,y_pred)"
   ]
  },
  {
   "cell_type": "code",
   "execution_count": null,
   "id": "061fe61a",
   "metadata": {},
   "outputs": [],
   "source": []
  }
 ],
 "metadata": {
  "kernelspec": {
   "display_name": "Python 3",
   "language": "python",
   "name": "python3"
  },
  "language_info": {
   "codemirror_mode": {
    "name": "ipython",
    "version": 3
   },
   "file_extension": ".py",
   "mimetype": "text/x-python",
   "name": "python",
   "nbconvert_exporter": "python",
   "pygments_lexer": "ipython3",
   "version": "3.13.5"
  }
 },
 "nbformat": 4,
 "nbformat_minor": 5
}
